{
 "cells": [
  {
   "cell_type": "code",
   "execution_count": 1,
   "metadata": {
    "collapsed": true
   },
   "outputs": [],
   "source": [
    "import quail\n",
    "import pickle"
   ]
  },
  {
   "cell_type": "code",
   "execution_count": 3,
   "metadata": {},
   "outputs": [],
   "source": [
    "#load in exp1 egg\n",
    "exp1 = pickle.load(open('../../FRFR-analyses/eggs/exp1.1_egg.p', 'rb'))"
   ]
  },
  {
   "cell_type": "code",
   "execution_count": 4,
   "metadata": {
    "scrolled": false
   },
   "outputs": [
    {
     "name": "stdout",
     "output_type": "stream",
     "text": [
      "Not enough recalls to compute fingerprint, returning default fingerprint.. (everything is .5)\n",
      "Not enough recalls to compute fingerprint, returning default fingerprint.. (everything is .5)\n"
     ]
    }
   ],
   "source": [
    "fingerprint_data = quail.analyze(exp1, analysis='fingerprint')"
   ]
  },
  {
   "cell_type": "code",
   "execution_count": 12,
   "metadata": {},
   "outputs": [
    {
     "data": {
      "text/html": [
       "<div>\n",
       "<table border=\"1\" class=\"dataframe\">\n",
       "  <thead>\n",
       "    <tr style=\"text-align: right;\">\n",
       "      <th></th>\n",
       "      <th>category</th>\n",
       "      <th>color</th>\n",
       "      <th>location</th>\n",
       "      <th>firstLetter</th>\n",
       "      <th>wordLength</th>\n",
       "      <th>size</th>\n",
       "    </tr>\n",
       "    <tr>\n",
       "      <th>List</th>\n",
       "      <th></th>\n",
       "      <th></th>\n",
       "      <th></th>\n",
       "      <th></th>\n",
       "      <th></th>\n",
       "      <th></th>\n",
       "    </tr>\n",
       "  </thead>\n",
       "  <tbody>\n",
       "    <tr>\n",
       "      <th>0</th>\n",
       "      <td>0.592936</td>\n",
       "      <td>0.354712</td>\n",
       "      <td>0.355459</td>\n",
       "      <td>0.481944</td>\n",
       "      <td>0.610377</td>\n",
       "      <td>0.680194</td>\n",
       "    </tr>\n",
       "    <tr>\n",
       "      <th>1</th>\n",
       "      <td>0.669792</td>\n",
       "      <td>0.431250</td>\n",
       "      <td>0.839583</td>\n",
       "      <td>0.452083</td>\n",
       "      <td>0.653125</td>\n",
       "      <td>0.790625</td>\n",
       "    </tr>\n",
       "    <tr>\n",
       "      <th>2</th>\n",
       "      <td>0.578274</td>\n",
       "      <td>0.425000</td>\n",
       "      <td>0.710714</td>\n",
       "      <td>0.488889</td>\n",
       "      <td>0.221627</td>\n",
       "      <td>0.634226</td>\n",
       "    </tr>\n",
       "    <tr>\n",
       "      <th>3</th>\n",
       "      <td>0.496645</td>\n",
       "      <td>0.534078</td>\n",
       "      <td>0.549421</td>\n",
       "      <td>0.463629</td>\n",
       "      <td>0.478174</td>\n",
       "      <td>0.697406</td>\n",
       "    </tr>\n",
       "    <tr>\n",
       "      <th>4</th>\n",
       "      <td>0.496345</td>\n",
       "      <td>0.672509</td>\n",
       "      <td>0.426110</td>\n",
       "      <td>0.473327</td>\n",
       "      <td>0.695587</td>\n",
       "      <td>0.367854</td>\n",
       "    </tr>\n",
       "    <tr>\n",
       "      <th>5</th>\n",
       "      <td>0.578274</td>\n",
       "      <td>0.463492</td>\n",
       "      <td>0.657937</td>\n",
       "      <td>0.464286</td>\n",
       "      <td>0.572619</td>\n",
       "      <td>0.800893</td>\n",
       "    </tr>\n",
       "    <tr>\n",
       "      <th>6</th>\n",
       "      <td>0.621592</td>\n",
       "      <td>0.433003</td>\n",
       "      <td>0.712301</td>\n",
       "      <td>0.556250</td>\n",
       "      <td>0.438151</td>\n",
       "      <td>0.658106</td>\n",
       "    </tr>\n",
       "    <tr>\n",
       "      <th>7</th>\n",
       "      <td>0.767956</td>\n",
       "      <td>0.417063</td>\n",
       "      <td>0.503770</td>\n",
       "      <td>0.476984</td>\n",
       "      <td>0.376290</td>\n",
       "      <td>0.767956</td>\n",
       "    </tr>\n",
       "    <tr>\n",
       "      <th>8</th>\n",
       "      <td>0.405546</td>\n",
       "      <td>0.618098</td>\n",
       "      <td>0.497196</td>\n",
       "      <td>0.482572</td>\n",
       "      <td>0.283385</td>\n",
       "      <td>0.392903</td>\n",
       "    </tr>\n",
       "    <tr>\n",
       "      <th>9</th>\n",
       "      <td>0.528566</td>\n",
       "      <td>0.401214</td>\n",
       "      <td>0.468254</td>\n",
       "      <td>0.475570</td>\n",
       "      <td>0.579347</td>\n",
       "      <td>0.734214</td>\n",
       "    </tr>\n",
       "    <tr>\n",
       "      <th>10</th>\n",
       "      <td>0.406250</td>\n",
       "      <td>0.625000</td>\n",
       "      <td>0.687500</td>\n",
       "      <td>0.468750</td>\n",
       "      <td>0.562500</td>\n",
       "      <td>0.281250</td>\n",
       "    </tr>\n",
       "    <tr>\n",
       "      <th>11</th>\n",
       "      <td>0.582233</td>\n",
       "      <td>0.504623</td>\n",
       "      <td>0.560776</td>\n",
       "      <td>0.486645</td>\n",
       "      <td>0.641601</td>\n",
       "      <td>0.556382</td>\n",
       "    </tr>\n",
       "    <tr>\n",
       "      <th>12</th>\n",
       "      <td>0.578763</td>\n",
       "      <td>0.510193</td>\n",
       "      <td>0.457024</td>\n",
       "      <td>0.480519</td>\n",
       "      <td>0.640838</td>\n",
       "      <td>0.449009</td>\n",
       "    </tr>\n",
       "    <tr>\n",
       "      <th>13</th>\n",
       "      <td>NaN</td>\n",
       "      <td>NaN</td>\n",
       "      <td>NaN</td>\n",
       "      <td>NaN</td>\n",
       "      <td>NaN</td>\n",
       "      <td>NaN</td>\n",
       "    </tr>\n",
       "    <tr>\n",
       "      <th>14</th>\n",
       "      <td>0.530546</td>\n",
       "      <td>0.538004</td>\n",
       "      <td>0.529556</td>\n",
       "      <td>0.474926</td>\n",
       "      <td>0.660222</td>\n",
       "      <td>0.400715</td>\n",
       "    </tr>\n",
       "    <tr>\n",
       "      <th>15</th>\n",
       "      <td>0.566369</td>\n",
       "      <td>0.639286</td>\n",
       "      <td>0.440873</td>\n",
       "      <td>0.488889</td>\n",
       "      <td>0.389286</td>\n",
       "      <td>0.410913</td>\n",
       "    </tr>\n",
       "  </tbody>\n",
       "</table>\n",
       "</div>"
      ],
      "text/plain": [
       "      category     color  location  firstLetter  wordLength      size\n",
       "List                                                                 \n",
       "0     0.592936  0.354712  0.355459     0.481944    0.610377  0.680194\n",
       "1     0.669792  0.431250  0.839583     0.452083    0.653125  0.790625\n",
       "2     0.578274  0.425000  0.710714     0.488889    0.221627  0.634226\n",
       "3     0.496645  0.534078  0.549421     0.463629    0.478174  0.697406\n",
       "4     0.496345  0.672509  0.426110     0.473327    0.695587  0.367854\n",
       "5     0.578274  0.463492  0.657937     0.464286    0.572619  0.800893\n",
       "6     0.621592  0.433003  0.712301     0.556250    0.438151  0.658106\n",
       "7     0.767956  0.417063  0.503770     0.476984    0.376290  0.767956\n",
       "8     0.405546  0.618098  0.497196     0.482572    0.283385  0.392903\n",
       "9     0.528566  0.401214  0.468254     0.475570    0.579347  0.734214\n",
       "10    0.406250  0.625000  0.687500     0.468750    0.562500  0.281250\n",
       "11    0.582233  0.504623  0.560776     0.486645    0.641601  0.556382\n",
       "12    0.578763  0.510193  0.457024     0.480519    0.640838  0.449009\n",
       "13         NaN       NaN       NaN          NaN         NaN       NaN\n",
       "14    0.530546  0.538004  0.529556     0.474926    0.660222  0.400715\n",
       "15    0.566369  0.639286  0.440873     0.488889    0.389286  0.410913"
      ]
     },
     "execution_count": 12,
     "metadata": {},
     "output_type": "execute_result"
    }
   ],
   "source": [
    "fingerprint_data.ix[15]"
   ]
  },
  {
   "cell_type": "code",
   "execution_count": 13,
   "metadata": {},
   "outputs": [
    {
     "name": "stdout",
     "output_type": "stream",
     "text": [
      "Not enough recalls to compute fingerprint, returning default fingerprint.. (everything is .5)\n",
      "Not enough recalls to compute fingerprint, returning default fingerprint.. (everything is .5)\n"
     ]
    }
   ],
   "source": [
    "fingerprint_data_avg = quail.analyze(exp1, analysis='fingerprint', listgroup=['average']*16)"
   ]
  },
  {
   "cell_type": "code",
   "execution_count": 15,
   "metadata": {},
   "outputs": [
    {
     "data": {
      "text/html": [
       "<div>\n",
       "<table border=\"1\" class=\"dataframe\">\n",
       "  <thead>\n",
       "    <tr style=\"text-align: right;\">\n",
       "      <th></th>\n",
       "      <th>category</th>\n",
       "      <th>color</th>\n",
       "      <th>location</th>\n",
       "      <th>firstLetter</th>\n",
       "      <th>wordLength</th>\n",
       "      <th>size</th>\n",
       "    </tr>\n",
       "    <tr>\n",
       "      <th>List</th>\n",
       "      <th></th>\n",
       "      <th></th>\n",
       "      <th></th>\n",
       "      <th></th>\n",
       "      <th></th>\n",
       "      <th></th>\n",
       "    </tr>\n",
       "  </thead>\n",
       "  <tbody>\n",
       "    <tr>\n",
       "      <th>average</th>\n",
       "      <td>NaN</td>\n",
       "      <td>NaN</td>\n",
       "      <td>NaN</td>\n",
       "      <td>NaN</td>\n",
       "      <td>NaN</td>\n",
       "      <td>NaN</td>\n",
       "    </tr>\n",
       "  </tbody>\n",
       "</table>\n",
       "</div>"
      ],
      "text/plain": [
       "         category  color  location  firstLetter  wordLength  size\n",
       "List                                                             \n",
       "average       NaN    NaN       NaN          NaN         NaN   NaN"
      ]
     },
     "execution_count": 15,
     "metadata": {},
     "output_type": "execute_result"
    }
   ],
   "source": [
    "fingerprint_data_avg.ix[15]"
   ]
  },
  {
   "cell_type": "code",
   "execution_count": null,
   "metadata": {
    "collapsed": true
   },
   "outputs": [],
   "source": []
  }
 ],
 "metadata": {
  "kernelspec": {
   "display_name": "Python 2",
   "language": "python",
   "name": "python2"
  },
  "language_info": {
   "codemirror_mode": {
    "name": "ipython",
    "version": 2
   },
   "file_extension": ".py",
   "mimetype": "text/x-python",
   "name": "python",
   "nbconvert_exporter": "python",
   "pygments_lexer": "ipython2",
   "version": "2.7.13"
  }
 },
 "nbformat": 4,
 "nbformat_minor": 2
}
