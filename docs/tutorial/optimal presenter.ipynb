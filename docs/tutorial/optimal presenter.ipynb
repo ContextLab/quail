{
 "cells": [
  {
   "cell_type": "code",
   "execution_count": 1,
   "metadata": {
    "collapsed": true
   },
   "outputs": [],
   "source": [
    "import numpy as np\n",
    "import quail\n",
    "from quail import Fingerprint, OptimalPresenter\n",
    "import seaborn as sns"
   ]
  },
  {
   "cell_type": "code",
   "execution_count": 2,
   "metadata": {
    "collapsed": true
   },
   "outputs": [],
   "source": [
    "# generate some fake data\n",
    "next_presented = ['CAT', 'DOG', 'HORSE', 'SNAIL', 'SHOE', 'FOOT', 'ARM', 'UTAH', 'NEW YORK', 'TRUCK', 'EAR', 'ARIZONA', 'BIKE', 'CAB', 'CAR', 'TOE']\n",
    "# perm = np.random.permutation(len(next_presented))\n",
    "# next_recalled = [next_presented[i] for i in perm]\n",
    "next_recalled = next_presented\n",
    "\n",
    "next_features = [{\n",
    "                    'category' : 'animal',\n",
    "                    'size' : 'bigger',\n",
    "                    'starting letter' : 'C',\n",
    "                    'length' : 3\n",
    "                 },\n",
    "                 {\n",
    "                    'category' : 'animal',\n",
    "                    'size' : 'bigger',\n",
    "                    'starting letter' : 'D',\n",
    "                    'length' : 3\n",
    "                 },\n",
    "                 {\n",
    "                    'category' : 'animal',\n",
    "                    'size' : 'bigger',\n",
    "                    'starting letter' : 'H',\n",
    "                    'length' : 5\n",
    "                 },\n",
    "                 {\n",
    "                    'category' : 'animal',\n",
    "                    'size' : 'bigger',\n",
    "                    'starting letter' : 'S',\n",
    "                    'length' : 5\n",
    "                 },\n",
    "                 {\n",
    "                    'category' : 'body part',\n",
    "                    'size' : 'smaller',\n",
    "                    'starting letter' : 'S',\n",
    "                    'length' : 4\n",
    "                 },\n",
    "                 {\n",
    "                    'category' : 'body part',\n",
    "                    'size' : 'smaller',\n",
    "                    'starting letter' : 'F',\n",
    "                    'length' : 4\n",
    "                 },\n",
    "                 {\n",
    "                    'category' : 'body part',\n",
    "                    'size' : 'bigger',\n",
    "                    'starting letter' : 'A',\n",
    "                    'length' : 3\n",
    "                 },\n",
    "                 {\n",
    "                    'category' : 'state',\n",
    "                    'size' : 'bigger',\n",
    "                    'starting letter' : 'U',\n",
    "                    'length' : 4\n",
    "                 },\n",
    "                 {\n",
    "                    'category' : 'state',\n",
    "                    'size' : 'bigger',\n",
    "                    'starting letter' : 'N',\n",
    "                    'length' : 7\n",
    "                 },\n",
    "                 {\n",
    "                    'category' : 'transportation',\n",
    "                    'size' : 'bigger',\n",
    "                    'starting letter' : 'T',\n",
    "                    'length' : 5\n",
    "                 },\n",
    "                 {\n",
    "                    'category' : 'body part',\n",
    "                    'size' : 'smaller',\n",
    "                    'starting letter' : 'E',\n",
    "                    'length' : 3\n",
    "                 },\n",
    "                 {\n",
    "                    'category' : 'state',\n",
    "                    'size' : 'bigger',\n",
    "                    'starting letter' : 'A',\n",
    "                    'length' : 7\n",
    "                 },\n",
    "                 {\n",
    "                    'category' : 'transportation',\n",
    "                    'size' : 'bigger',\n",
    "                    'starting letter' : 'B',\n",
    "                    'length' : 4\n",
    "                 },\n",
    "                 {\n",
    "                    'category' : 'transportation',\n",
    "                    'size' : 'bigger',\n",
    "                    'starting letter' : 'C',\n",
    "                    'length' : 3\n",
    "                 },\n",
    "                 {\n",
    "                    'category' : 'transportation',\n",
    "                    'size' : 'bigger',\n",
    "                    'starting letter' : 'C',\n",
    "                    'length' : 3\n",
    "                 },\n",
    "                 {\n",
    "                    'category' : 'body part',\n",
    "                    'size' : 'smaller',\n",
    "                    'starting letter' : 'T',\n",
    "                    'length' : 3\n",
    "                 }\n",
    "]\n",
    "dist_funcs = {\n",
    "                'category' : lambda a, b: int(a!=b),\n",
    "                'size' : lambda a, b: int(a!=b),\n",
    "                'starting letter' : lambda a, b: int(a!=b),\n",
    "                'length' : lambda a, b: np.linalg.norm(np.subtract(a,b))\n",
    "}\n",
    "\n",
    "egg = quail.Egg(pres=[next_presented], rec=[next_recalled], features=[next_features])"
   ]
  },
  {
   "cell_type": "code",
   "execution_count": 3,
   "metadata": {
    "collapsed": true
   },
   "outputs": [],
   "source": [
    "# initialize fingerprint\n",
    "fingerprint = Fingerprint(init=egg)\n",
    "\n",
    "# initialize presenter\n",
    "params = {\n",
    "    'fingerprint' : fingerprint\n",
    "}\n",
    "presenter = OptimalPresenter(params=params, strategy='stabilize')\n",
    "\n",
    "# update the fingerprint\n",
    "fingerprint.update(egg)\n",
    "\n",
    "weights = quail.analyze(egg, analysis='fingerprint')"
   ]
  },
  {
   "cell_type": "code",
   "execution_count": 14,
   "metadata": {
    "scrolled": true
   },
   "outputs": [
    {
     "name": "stdout",
     "output_type": "stream",
     "text": [
      "0\n"
     ]
    }
   ],
   "source": [
    "nperms=10\n",
    "dist_stick = []\n",
    "dist_beststick = []\n",
    "dist_perm = []\n",
    "dist_rand = []\n",
    "    \n",
    "for iperm in range(nperms):\n",
    "    \n",
    "    # random\n",
    "    shuffled_egg = presenter.order(egg, strategy='random')\n",
    "    weights_rand = quail.analyze(shuffled_egg, analysis='fingerprint')\n",
    "    dist_rand.append(((weights_rand - weights)**2).values.sum())\n",
    "    \n",
    "    # reorder next list using stick breaking\n",
    "    resorted_egg = presenter.order(shuffled_egg, method='stick')\n",
    "    weights_stick = quail.analyze(resorted_egg, analysis='fingerprint')\n",
    "    dist_stick.append(((weights_stick - weights)**2).values.sum())\n",
    "\n",
    "    # reorder next list using stick breaking\n",
    "    resorted_egg = presenter.order(shuffled_egg, method='best_stick', nperms=1000)\n",
    "    weights_stick = quail.analyze(resorted_egg, analysis='fingerprint')\n",
    "    dist_beststick.append(((weights_stick - weights)**2).values.sum())\n",
    "    \n",
    "    # reorder next list using permutation\n",
    "#     resorted_egg = presenter.order(shuffled_egg, method='permute', nperms=10000)\n",
    "#     weights_perm = quail.analyze(resorted_egg, analysis='fingerprint')\n",
    "#     dist_perm.append(((weights_perm - weights)**2).values.sum())\n",
    "    \n",
    "    if iperm % 10 == 0:\n",
    "        print(iperm)"
   ]
  },
  {
   "cell_type": "code",
   "execution_count": 15,
   "metadata": {},
   "outputs": [
    {
     "data": {
      "image/png": "[encoded data removed]",
      "text/plain": [
       "<matplotlib.figure.Figure at 0x10c2e64d0>"
      ]
     },
     "metadata": {},
     "output_type": "display_data"
    }
   ],
   "source": [
    "sns.distplot(dist_stick, label='stick')\n",
    "sns.distplot(dist_beststick, label='best stick')\n",
    "# sns.distplot(dist_perm, label='permute')\n",
    "sns.distplot(dist_rand, label='random')\n",
    "sns.plt.legend()\n",
    "sns.plt.show()"
   ]
  },
  {
   "cell_type": "code",
   "execution_count": 16,
   "metadata": {
    "scrolled": false
   },
   "outputs": [
    {
     "data": {
      "image/png": "[encoded data removed]",
      "text/plain": [
       "<matplotlib.figure.Figure at 0x10c2e66d0>"
      ]
     },
     "metadata": {},
     "output_type": "display_data"
    },
    {
     "data": {
      "text/plain": [
       "4"
      ]
     },
     "execution_count": 16,
     "metadata": {},
     "output_type": "execute_result"
    }
   ],
   "source": [
    "import pandas as pd\n",
    "df = pd.DataFrame(np.array([dist_beststick, dist_stick]).T, columns=['best stick method', 'stick method'])\n",
    "sns.jointplot(df['best stick method'], df['stick method'])\n",
    "sns.plt.show()\n",
    "np.sum(df['best stick method'] > df['stick method'])"
   ]
  },
  {
   "cell_type": "code",
   "execution_count": 58,
   "metadata": {},
   "outputs": [
    {
     "data": {
      "text/html": [
       "<div>\n",
       "<style>\n",
       "    .dataframe thead tr:only-child th {\n",
       "        text-align: right;\n",
       "    }\n",
       "\n",
       "    .dataframe thead th {\n",
       "        text-align: left;\n",
       "    }\n",
       "\n",
       "    .dataframe tbody tr th {\n",
       "        vertical-align: top;\n",
       "    }\n",
       "</style>\n",
       "<table border=\"1\" class=\"dataframe\">\n",
       "  <thead>\n",
       "    <tr style=\"text-align: right;\">\n",
       "      <th></th>\n",
       "      <th></th>\n",
       "      <th>category</th>\n",
       "      <th>length</th>\n",
       "      <th>starting letter</th>\n",
       "      <th>size</th>\n",
       "    </tr>\n",
       "    <tr>\n",
       "      <th>Subject</th>\n",
       "      <th>List</th>\n",
       "      <th></th>\n",
       "      <th></th>\n",
       "      <th></th>\n",
       "      <th></th>\n",
       "    </tr>\n",
       "  </thead>\n",
       "  <tbody>\n",
       "    <tr>\n",
       "      <th rowspan=\"10\" valign=\"top\">0</th>\n",
       "      <th>0</th>\n",
       "      <td>0.462007</td>\n",
       "      <td>0.489471</td>\n",
       "      <td>0.547535</td>\n",
       "      <td>0.657237</td>\n",
       "    </tr>\n",
       "    <tr>\n",
       "      <th>0</th>\n",
       "      <td>0.536453</td>\n",
       "      <td>0.501520</td>\n",
       "      <td>0.513433</td>\n",
       "      <td>0.657032</td>\n",
       "    </tr>\n",
       "    <tr>\n",
       "      <th>0</th>\n",
       "      <td>0.476299</td>\n",
       "      <td>0.474986</td>\n",
       "      <td>0.478896</td>\n",
       "      <td>0.599711</td>\n",
       "    </tr>\n",
       "    <tr>\n",
       "      <th>0</th>\n",
       "      <td>0.540750</td>\n",
       "      <td>0.474375</td>\n",
       "      <td>0.484599</td>\n",
       "      <td>0.665135</td>\n",
       "    </tr>\n",
       "    <tr>\n",
       "      <th>0</th>\n",
       "      <td>0.579164</td>\n",
       "      <td>0.391135</td>\n",
       "      <td>0.512738</td>\n",
       "      <td>0.719010</td>\n",
       "    </tr>\n",
       "    <tr>\n",
       "      <th>0</th>\n",
       "      <td>0.610967</td>\n",
       "      <td>0.524076</td>\n",
       "      <td>0.483529</td>\n",
       "      <td>0.719010</td>\n",
       "    </tr>\n",
       "    <tr>\n",
       "      <th>0</th>\n",
       "      <td>0.528809</td>\n",
       "      <td>0.599331</td>\n",
       "      <td>0.508082</td>\n",
       "      <td>0.658247</td>\n",
       "    </tr>\n",
       "    <tr>\n",
       "      <th>0</th>\n",
       "      <td>0.462588</td>\n",
       "      <td>0.524707</td>\n",
       "      <td>0.485497</td>\n",
       "      <td>0.598786</td>\n",
       "    </tr>\n",
       "    <tr>\n",
       "      <th>0</th>\n",
       "      <td>0.607918</td>\n",
       "      <td>0.618952</td>\n",
       "      <td>0.515542</td>\n",
       "      <td>0.659566</td>\n",
       "    </tr>\n",
       "    <tr>\n",
       "      <th>0</th>\n",
       "      <td>0.523912</td>\n",
       "      <td>0.466983</td>\n",
       "      <td>0.481004</td>\n",
       "      <td>0.659566</td>\n",
       "    </tr>\n",
       "  </tbody>\n",
       "</table>\n",
       "</div>"
      ],
      "text/plain": [
       "              category    length  starting letter      size\n",
       "Subject List                                               \n",
       "0       0     0.462007  0.489471         0.547535  0.657237\n",
       "        0     0.536453  0.501520         0.513433  0.657032\n",
       "        0     0.476299  0.474986         0.478896  0.599711\n",
       "        0     0.540750  0.474375         0.484599  0.665135\n",
       "        0     0.579164  0.391135         0.512738  0.719010\n",
       "        0     0.610967  0.524076         0.483529  0.719010\n",
       "        0     0.528809  0.599331         0.508082  0.658247\n",
       "        0     0.462588  0.524707         0.485497  0.598786\n",
       "        0     0.607918  0.618952         0.515542  0.659566\n",
       "        0     0.523912  0.466983         0.481004  0.659566"
      ]
     },
     "execution_count": 58,
     "metadata": {},
     "output_type": "execute_result"
    }
   ],
   "source": [
    "presenter.get_params('fingerprint').state = np.array([.5, .5, .5, .95])\n",
    "pd.concat([quail.analyze(presenter.order(egg, method='stick'), analysis='fingerprint') for i in range(10)])"
   ]
  },
  {
   "cell_type": "code",
   "execution_count": null,
   "metadata": {
    "collapsed": true
   },
   "outputs": [],
   "source": []
  }
 ],
 "metadata": {
  "kernelspec": {
   "display_name": "Python 2",
   "language": "python",
   "name": "python2"
  },
  "language_info": {
   "codemirror_mode": {
    "name": "ipython",
    "version": 2
   },
   "file_extension": ".py",
   "mimetype": "text/x-python",
   "name": "python",
   "nbconvert_exporter": "python",
   "pygments_lexer": "ipython2",
   "version": "2.7.11"
  }
 },
 "nbformat": 4,
 "nbformat_minor": 2
}
