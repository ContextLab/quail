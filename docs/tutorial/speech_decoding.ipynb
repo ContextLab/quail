{
 "cells": [
  {
   "cell_type": "markdown",
   "metadata": {},
   "source": [
    "## Automated Speech Decoding\n",
    "\n",
    "In a typical free recall experiment, after the experiment completes the experimenter (or a team of experience-hungry undergraduates) will manually transcribe the verbal responses from a subject by listening to audio files, and coding each word.  This process can take hours, and is typically not exciting, to say the least. To help with this problem, we created a `decode_speech` function, which wraps the Google Speech API and a software package called `ffmpeg` to automatically transcribe the responses. Furthermore, it allows the experimenter to transcribe in (almost) realtime, which makes adaptive free recall experiments a possibility. To use this feature (assuming that you are using a mac or linux machine), you must first set up ffmpeg and Google Speech API:"
   ]
  },
  {
   "cell_type": "markdown",
   "metadata": {},
   "source": [
    "## Setting up `ffmpeg`\n",
    "\n",
    "`ffmpeg` is native application that processes audio and video files.  We will use it to convert .wav files to the .flac format, which will allow us to send the files to Google Speech.  To set up:\n",
    "\n",
    "### On a mac:\n",
    "\n",
    "+ Make sure you have brew installed.  If you don't, paste this into your terminal window:\n",
    "\n",
    "`/usr/bin/ruby -e \"$(curl -fsSL https://raw.githubusercontent.com/Homebrew/install/master/install)\"`\n",
    "\n",
    "+ Install ffmpeg\n",
    "\n",
    "`brew install ffmpeg`"
   ]
  },
  {
   "cell_type": "markdown",
   "metadata": {
    "collapsed": true
   },
   "source": [
    "## Setting up the Google Speech API\n",
    "\n",
    "Under the hood, `quail` uses the Google Speech API to transcribe audio responses.  Follow the instructions below to set it up.  Note: the API is not free, but its quite reasonable.  Up to 60 minutes/month is free, and after that it costs \\$0.006 per 15 seconds. For a typical study (16 study/test blocks) allowing for a minute of recall after each, the price comes out to ~$0.38 per subject. To set it up, follow these steps:\n",
    "\n",
    "1. Sign up for a Google Cloud account.\n",
    "    + https://cloud.google.com/ (you will need to enter a credit card number)\n",
    "\n",
    "2. Create a project.\n",
    "   + Click \"Select a project\", and create a new one. You can have a single project for all recall studies, or a separate project for each study. Then, navigate to your new project.\n",
    "\n",
    "4. Enable to Speech API.\n",
    "   + Click the \"Dashboard\" icon.\n",
    "   + Click \"Enable API\"\n",
    "   + Click \"Speech API\" which will be listed under \"Google Cloud Machine Learning\".\n",
    "   + Click \"Enable\".\n",
    "\n",
    "5. Set up a service account.\n",
    "   + Click \"Credentials\".\n",
    "   + Click \"Create credentials\" and select \"Service account key\".\n",
    "   + Click \"Service account\" and select \"new service account\".\n",
    "   + Name the account (\"owner\") and then select the role \"Project->Owner\".\n",
    "   + Click \"Create\".\n",
    "   \n",
    "If you followed these steps, a JSON formatted API keyfile will be downloaded to your local computer. This file is your ticket to speech decoding, so keep it safe. Everything should now be setup! Below is a basic example of how to use it:\n",
    "\n",
    "```\n",
    "#import\n",
    "import quail\n",
    "\n",
    "# decode speech\n",
    "recall_data = quail.decode_speech('../data/sample.wav', keypath='path/to/keyfile.JSON')\n",
    "\n",
    "# print results\n",
    "print(recall_data)\n",
    "```\n",
    "\n",
    "### Super-user tip:\n",
    "\n",
    "The credentials can also be set up as an environmental variable.  To do this, edit your .bash_profile, adding the line:\n",
    "```\n",
    "export GOOGLE_APPLICATION_CREDENTIALS='/path/to/keyfile.JSON'\n",
    "```\n",
    "\n",
    "You'll need to launch a fresh terminal instance and then the `decode_speech` function should work without the explicit keypath:\n",
    "\n",
    "```\n",
    "# decode speech\n",
    "recall_data = quail.decode_speech('../data/sample.wav')\n",
    "```"
   ]
  }
 ],
 "metadata": {
  "kernelspec": {
   "display_name": "Python 3",
   "language": "python",
   "name": "python3"
  },
  "language_info": {
   "codemirror_mode": {
    "name": "ipython",
    "version": 3
   },
   "file_extension": ".py",
   "mimetype": "text/x-python",
   "name": "python",
   "nbconvert_exporter": "python",
   "pygments_lexer": "ipython3",
   "version": "3.6.5"
  }
 },
 "nbformat": 4,
 "nbformat_minor": 2
}
