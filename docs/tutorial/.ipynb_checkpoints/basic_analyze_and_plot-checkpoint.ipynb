{
 "cells": [
  {
   "cell_type": "markdown",
   "metadata": {},
   "source": [
    "# Basic analyzing and plotting\n",
    "\n",
    "This tutorial will go over the basics of analyzing `eggs`, the primary data structure used in `quail`. To learn about how an egg is set up, see the egg tutorial.\n",
    "\n",
    "An egg is made up of (at minimum) the stimuli presented to a subject and the stimuli recalled by the subject.  With these, two components we can perform a number of analyses:\n",
    "\n",
    "1. **Recall Accuracy** - the proportion of stimuli presented that were later recalled\n",
    "2. **Serial Position Curve** - recall accuracy as a function of the encoding position of the stimulus\n",
    "3. **Probability of First Recall** - the probability that a stimulus will be recalled first as a function of its encoding position\n",
    "4. **Lag-CRP** - given the recall of word n, the probability of recalling stimuli at neighboring positions (n+/-1, 2, 3 etc).\n",
    "5. **Temporal Clustering** - a measure of recall clustering by temporal proximity during encoding\n",
    "\n",
    "If we have a set of features for the stimuli, we can also compute a **Memory Fingerprint**, which is an estimate of how a subject clusters their recall responses with respect to features of a stimulus (see the fingerprint tutorial for more on this).\n",
    "\n",
    "Let's get to analyzing some `eggs`.  First, we'll load in some example data: "
   ]
  },
  {
   "cell_type": "code",
   "execution_count": 1,
   "metadata": {
    "collapsed": true
   },
   "outputs": [
    {
     "name": "stderr",
     "output_type": "stream",
     "text": [
      "/usr/local/lib/python3.6/site-packages/pydub/utils.py:165: RuntimeWarning: Couldn't find ffmpeg or avconv - defaulting to ffmpeg, but may not work\n",
      "  warn(\"Couldn't find ffmpeg or avconv - defaulting to ffmpeg, but may not work\", RuntimeWarning)\n"
     ]
    }
   ],
   "source": [
    "import quail\n",
    "%matplotlib inline\n",
    "\n",
    "egg = quail.load_example_data()"
   ]
  },
  {
   "cell_type": "markdown",
   "metadata": {},
   "source": [
    "This dataset is comprised of 30 subjects, who each performed 8 study/test blocks of 16 words each.  Here are some of the presented words:"
   ]
  },
  {
   "cell_type": "code",
   "execution_count": 2,
   "metadata": {
    "collapsed": true
   },
   "outputs": [
    {
     "data": {
      "text/html": [
       "<div>\n",
       "<style scoped>\n",
       "    .dataframe tbody tr th:only-of-type {\n",
       "        vertical-align: middle;\n",
       "    }\n",
       "\n",
       "    .dataframe tbody tr th {\n",
       "        vertical-align: top;\n",
       "    }\n",
       "\n",
       "    .dataframe thead th {\n",
       "        text-align: right;\n",
       "    }\n",
       "</style>\n",
       "<table border=\"1\" class=\"dataframe\">\n",
       "  <thead>\n",
       "    <tr style=\"text-align: right;\">\n",
       "      <th></th>\n",
       "      <th></th>\n",
       "      <th>0</th>\n",
       "      <th>1</th>\n",
       "      <th>2</th>\n",
       "      <th>3</th>\n",
       "      <th>4</th>\n",
       "      <th>5</th>\n",
       "      <th>6</th>\n",
       "      <th>7</th>\n",
       "      <th>8</th>\n",
       "      <th>9</th>\n",
       "      <th>10</th>\n",
       "      <th>11</th>\n",
       "      <th>12</th>\n",
       "      <th>13</th>\n",
       "      <th>14</th>\n",
       "      <th>15</th>\n",
       "    </tr>\n",
       "    <tr>\n",
       "      <th>Subject</th>\n",
       "      <th>List</th>\n",
       "      <th></th>\n",
       "      <th></th>\n",
       "      <th></th>\n",
       "      <th></th>\n",
       "      <th></th>\n",
       "      <th></th>\n",
       "      <th></th>\n",
       "      <th></th>\n",
       "      <th></th>\n",
       "      <th></th>\n",
       "      <th></th>\n",
       "      <th></th>\n",
       "      <th></th>\n",
       "      <th></th>\n",
       "      <th></th>\n",
       "      <th></th>\n",
       "    </tr>\n",
       "  </thead>\n",
       "  <tbody>\n",
       "    <tr>\n",
       "      <th rowspan=\"5\" valign=\"top\">0</th>\n",
       "      <th>0</th>\n",
       "      <td>b'BROCCOLI'</td>\n",
       "      <td>b'CAULIFLOWER'</td>\n",
       "      <td>b'ONION'</td>\n",
       "      <td>b'PICKLE'</td>\n",
       "      <td>b'STRAINER'</td>\n",
       "      <td>b'SAUCER'</td>\n",
       "      <td>b'DISH'</td>\n",
       "      <td>b'BUTTERCUP'</td>\n",
       "      <td>b'GRIDDLE'</td>\n",
       "      <td>b'CARPET'</td>\n",
       "      <td>b'FLOOR'</td>\n",
       "      <td>b'FOUNDATION'</td>\n",
       "      <td>b'ELEVATOR'</td>\n",
       "      <td>b'AZALEA'</td>\n",
       "      <td>b'DAHLIA'</td>\n",
       "      <td>b'LOG'</td>\n",
       "    </tr>\n",
       "    <tr>\n",
       "      <th>1</th>\n",
       "      <td>b'POTATO'</td>\n",
       "      <td>b'CHIMNEY'</td>\n",
       "      <td>b'GERMANY'</td>\n",
       "      <td>b'BLOUSE'</td>\n",
       "      <td>b'EGYPT'</td>\n",
       "      <td>b'LOBBY'</td>\n",
       "      <td>b'JACKET'</td>\n",
       "      <td>b'ARTICHOKE'</td>\n",
       "      <td>b'CLOSET'</td>\n",
       "      <td>b'SUIT'</td>\n",
       "      <td>b'CUBA'</td>\n",
       "      <td>b'GARLIC'</td>\n",
       "      <td>b'CAMISOLE'</td>\n",
       "      <td>b'SPINACH'</td>\n",
       "      <td>b'IRAN'</td>\n",
       "      <td>b'FURNACE'</td>\n",
       "    </tr>\n",
       "    <tr>\n",
       "      <th>2</th>\n",
       "      <td>b'OVEN'</td>\n",
       "      <td>b'TUBA'</td>\n",
       "      <td>b'MONTREAL'</td>\n",
       "      <td>b'MUG'</td>\n",
       "      <td>b'HIP'</td>\n",
       "      <td>b'BROILER'</td>\n",
       "      <td>b'PICCOLO'</td>\n",
       "      <td>b'ARMS'</td>\n",
       "      <td>b'DALLAS'</td>\n",
       "      <td>b'ROME'</td>\n",
       "      <td>b'TRUMPET'</td>\n",
       "      <td>b'PELVIS'</td>\n",
       "      <td>b'THERMOMETER'</td>\n",
       "      <td>b'TAMBOURINE'</td>\n",
       "      <td>b'PARIS'</td>\n",
       "      <td>b'STOMACH'</td>\n",
       "    </tr>\n",
       "    <tr>\n",
       "      <th>3</th>\n",
       "      <td>b'MOOSE'</td>\n",
       "      <td>b'MICHIGAN'</td>\n",
       "      <td>b'CLEMENTINE'</td>\n",
       "      <td>b'ANTELOPE'</td>\n",
       "      <td>b'MONKEY'</td>\n",
       "      <td>b'RIB'</td>\n",
       "      <td>b'RACOON'</td>\n",
       "      <td>b'FLORIDA'</td>\n",
       "      <td>b'TONGUE'</td>\n",
       "      <td>b'POMEGRANATE'</td>\n",
       "      <td>b'PEAR'</td>\n",
       "      <td>b'IOWA'</td>\n",
       "      <td>b'PANCREAS'</td>\n",
       "      <td>b'KANSAS'</td>\n",
       "      <td>b'LEMON'</td>\n",
       "      <td>b'TOOTH'</td>\n",
       "    </tr>\n",
       "    <tr>\n",
       "      <th>4</th>\n",
       "      <td>b'KITCHEN'</td>\n",
       "      <td>b'ROSE'</td>\n",
       "      <td>b'DOG'</td>\n",
       "      <td>b'CARNATION'</td>\n",
       "      <td>b'BARN'</td>\n",
       "      <td>b'DONKEY'</td>\n",
       "      <td>b'TIGER'</td>\n",
       "      <td>b'EAR'</td>\n",
       "      <td>b'FACE'</td>\n",
       "      <td>b'GAZEBO'</td>\n",
       "      <td>b'HEART'</td>\n",
       "      <td>b'PETUNIA'</td>\n",
       "      <td>b'HIPPOPOTAMUS'</td>\n",
       "      <td>b'ALCOVE'</td>\n",
       "      <td>b'TULIP'</td>\n",
       "      <td>b'KNUCKLE'</td>\n",
       "    </tr>\n",
       "  </tbody>\n",
       "</table>\n",
       "</div>"
      ],
      "text/plain": [
       "                       0               1              2             3   \\\n",
       "Subject List                                                             \n",
       "0       0     b'BROCCOLI'  b'CAULIFLOWER'       b'ONION'     b'PICKLE'   \n",
       "        1       b'POTATO'      b'CHIMNEY'     b'GERMANY'     b'BLOUSE'   \n",
       "        2         b'OVEN'         b'TUBA'    b'MONTREAL'        b'MUG'   \n",
       "        3        b'MOOSE'     b'MICHIGAN'  b'CLEMENTINE'   b'ANTELOPE'   \n",
       "        4      b'KITCHEN'         b'ROSE'         b'DOG'  b'CARNATION'   \n",
       "\n",
       "                       4           5           6             7           8   \\\n",
       "Subject List                                                                  \n",
       "0       0     b'STRAINER'   b'SAUCER'     b'DISH'  b'BUTTERCUP'  b'GRIDDLE'   \n",
       "        1        b'EGYPT'    b'LOBBY'   b'JACKET'  b'ARTICHOKE'   b'CLOSET'   \n",
       "        2          b'HIP'  b'BROILER'  b'PICCOLO'       b'ARMS'   b'DALLAS'   \n",
       "        3       b'MONKEY'      b'RIB'   b'RACOON'    b'FLORIDA'   b'TONGUE'   \n",
       "        4         b'BARN'   b'DONKEY'    b'TIGER'        b'EAR'     b'FACE'   \n",
       "\n",
       "                          9           10             11               12  \\\n",
       "Subject List                                                               \n",
       "0       0          b'CARPET'    b'FLOOR'  b'FOUNDATION'      b'ELEVATOR'   \n",
       "        1            b'SUIT'     b'CUBA'      b'GARLIC'      b'CAMISOLE'   \n",
       "        2            b'ROME'  b'TRUMPET'      b'PELVIS'   b'THERMOMETER'   \n",
       "        3     b'POMEGRANATE'     b'PEAR'        b'IOWA'      b'PANCREAS'   \n",
       "        4          b'GAZEBO'    b'HEART'     b'PETUNIA'  b'HIPPOPOTAMUS'   \n",
       "\n",
       "                         13         14          15  \n",
       "Subject List                                        \n",
       "0       0         b'AZALEA'  b'DAHLIA'      b'LOG'  \n",
       "        1        b'SPINACH'    b'IRAN'  b'FURNACE'  \n",
       "        2     b'TAMBOURINE'   b'PARIS'  b'STOMACH'  \n",
       "        3         b'KANSAS'   b'LEMON'    b'TOOTH'  \n",
       "        4         b'ALCOVE'   b'TULIP'  b'KNUCKLE'  "
      ]
     },
     "execution_count": 2,
     "metadata": {},
     "output_type": "execute_result"
    }
   ],
   "source": [
    "egg.get_pres_items().head()"
   ]
  },
  {
   "cell_type": "markdown",
   "metadata": {},
   "source": [
    "and some of the recalled words:"
   ]
  },
  {
   "cell_type": "code",
   "execution_count": 3,
   "metadata": {
    "collapsed": true
   },
   "outputs": [
    {
     "data": {
      "text/html": [
       "<div>\n",
       "<style scoped>\n",
       "    .dataframe tbody tr th:only-of-type {\n",
       "        vertical-align: middle;\n",
       "    }\n",
       "\n",
       "    .dataframe tbody tr th {\n",
       "        vertical-align: top;\n",
       "    }\n",
       "\n",
       "    .dataframe thead th {\n",
       "        text-align: right;\n",
       "    }\n",
       "</style>\n",
       "<table border=\"1\" class=\"dataframe\">\n",
       "  <thead>\n",
       "    <tr style=\"text-align: right;\">\n",
       "      <th></th>\n",
       "      <th></th>\n",
       "      <th>0</th>\n",
       "      <th>1</th>\n",
       "      <th>2</th>\n",
       "      <th>3</th>\n",
       "      <th>4</th>\n",
       "      <th>5</th>\n",
       "      <th>6</th>\n",
       "      <th>7</th>\n",
       "      <th>8</th>\n",
       "      <th>9</th>\n",
       "      <th>...</th>\n",
       "      <th>12</th>\n",
       "      <th>13</th>\n",
       "      <th>14</th>\n",
       "      <th>15</th>\n",
       "      <th>16</th>\n",
       "      <th>17</th>\n",
       "      <th>18</th>\n",
       "      <th>19</th>\n",
       "      <th>20</th>\n",
       "      <th>21</th>\n",
       "    </tr>\n",
       "    <tr>\n",
       "      <th>Subject</th>\n",
       "      <th>List</th>\n",
       "      <th></th>\n",
       "      <th></th>\n",
       "      <th></th>\n",
       "      <th></th>\n",
       "      <th></th>\n",
       "      <th></th>\n",
       "      <th></th>\n",
       "      <th></th>\n",
       "      <th></th>\n",
       "      <th></th>\n",
       "      <th></th>\n",
       "      <th></th>\n",
       "      <th></th>\n",
       "      <th></th>\n",
       "      <th></th>\n",
       "      <th></th>\n",
       "      <th></th>\n",
       "      <th></th>\n",
       "      <th></th>\n",
       "      <th></th>\n",
       "      <th></th>\n",
       "    </tr>\n",
       "  </thead>\n",
       "  <tbody>\n",
       "    <tr>\n",
       "      <th rowspan=\"5\" valign=\"top\">0</th>\n",
       "      <th>0</th>\n",
       "      <td>b'BROCCOLI'</td>\n",
       "      <td>b'CAULIFLOWER'</td>\n",
       "      <td>b'ONION'</td>\n",
       "      <td>b'DISH'</td>\n",
       "      <td>b'GRIDDLE'</td>\n",
       "      <td>b'DAHLIA'</td>\n",
       "      <td>b'SAUCER'</td>\n",
       "      <td>b'AZALEA'</td>\n",
       "      <td>None</td>\n",
       "      <td>None</td>\n",
       "      <td>...</td>\n",
       "      <td>None</td>\n",
       "      <td>None</td>\n",
       "      <td>NaN</td>\n",
       "      <td>NaN</td>\n",
       "      <td>NaN</td>\n",
       "      <td>NaN</td>\n",
       "      <td>NaN</td>\n",
       "      <td>NaN</td>\n",
       "      <td>NaN</td>\n",
       "      <td>NaN</td>\n",
       "    </tr>\n",
       "    <tr>\n",
       "      <th>1</th>\n",
       "      <td>b'FURNACE'</td>\n",
       "      <td>b'CHIMNEY'</td>\n",
       "      <td>b'CUBA'</td>\n",
       "      <td>b'GERMANY'</td>\n",
       "      <td>b'ARTICHOKE'</td>\n",
       "      <td>b'SPINACH'</td>\n",
       "      <td>b'POTATO'</td>\n",
       "      <td>b'SUIT'</td>\n",
       "      <td>b'CLOSET'</td>\n",
       "      <td>b'CHIMNEY'</td>\n",
       "      <td>...</td>\n",
       "      <td>None</td>\n",
       "      <td>None</td>\n",
       "      <td>NaN</td>\n",
       "      <td>NaN</td>\n",
       "      <td>NaN</td>\n",
       "      <td>NaN</td>\n",
       "      <td>NaN</td>\n",
       "      <td>NaN</td>\n",
       "      <td>NaN</td>\n",
       "      <td>NaN</td>\n",
       "    </tr>\n",
       "    <tr>\n",
       "      <th>2</th>\n",
       "      <td>b'MAINE'</td>\n",
       "      <td>b'ARMS'</td>\n",
       "      <td>b'PARIS'</td>\n",
       "      <td>None</td>\n",
       "      <td>None</td>\n",
       "      <td>None</td>\n",
       "      <td>None</td>\n",
       "      <td>None</td>\n",
       "      <td>None</td>\n",
       "      <td>None</td>\n",
       "      <td>...</td>\n",
       "      <td>None</td>\n",
       "      <td>None</td>\n",
       "      <td>NaN</td>\n",
       "      <td>NaN</td>\n",
       "      <td>NaN</td>\n",
       "      <td>NaN</td>\n",
       "      <td>NaN</td>\n",
       "      <td>NaN</td>\n",
       "      <td>NaN</td>\n",
       "      <td>NaN</td>\n",
       "    </tr>\n",
       "    <tr>\n",
       "      <th>3</th>\n",
       "      <td>b'IS'</td>\n",
       "      <td>b'RIB'</td>\n",
       "      <td>b'PANCREAS'</td>\n",
       "      <td>b'CLEMENTINE'</td>\n",
       "      <td>b'LEMON'</td>\n",
       "      <td>b'IOWA'</td>\n",
       "      <td>b'FLORIDA'</td>\n",
       "      <td>b'MICHIGAN'</td>\n",
       "      <td>b'MOOSE'</td>\n",
       "      <td>b'MONKEY'</td>\n",
       "      <td>...</td>\n",
       "      <td>None</td>\n",
       "      <td>None</td>\n",
       "      <td>NaN</td>\n",
       "      <td>NaN</td>\n",
       "      <td>NaN</td>\n",
       "      <td>NaN</td>\n",
       "      <td>NaN</td>\n",
       "      <td>NaN</td>\n",
       "      <td>NaN</td>\n",
       "      <td>NaN</td>\n",
       "    </tr>\n",
       "    <tr>\n",
       "      <th>4</th>\n",
       "      <td>b'CARNATION'</td>\n",
       "      <td>b'ROSE'</td>\n",
       "      <td>b'TULIP'</td>\n",
       "      <td>b'HIPPOPOTAMUS'</td>\n",
       "      <td>b'ALCOVE'</td>\n",
       "      <td>None</td>\n",
       "      <td>None</td>\n",
       "      <td>None</td>\n",
       "      <td>None</td>\n",
       "      <td>None</td>\n",
       "      <td>...</td>\n",
       "      <td>None</td>\n",
       "      <td>None</td>\n",
       "      <td>NaN</td>\n",
       "      <td>NaN</td>\n",
       "      <td>NaN</td>\n",
       "      <td>NaN</td>\n",
       "      <td>NaN</td>\n",
       "      <td>NaN</td>\n",
       "      <td>NaN</td>\n",
       "      <td>NaN</td>\n",
       "    </tr>\n",
       "  </tbody>\n",
       "</table>\n",
       "<p>5 rows × 22 columns</p>\n",
       "</div>"
      ],
      "text/plain": [
       "                        0               1            2                3   \\\n",
       "Subject List                                                               \n",
       "0       0      b'BROCCOLI'  b'CAULIFLOWER'     b'ONION'          b'DISH'   \n",
       "        1       b'FURNACE'      b'CHIMNEY'      b'CUBA'       b'GERMANY'   \n",
       "        2         b'MAINE'         b'ARMS'     b'PARIS'             None   \n",
       "        3            b'IS'          b'RIB'  b'PANCREAS'    b'CLEMENTINE'   \n",
       "        4     b'CARNATION'         b'ROSE'     b'TULIP'  b'HIPPOPOTAMUS'   \n",
       "\n",
       "                        4           5           6            7          8   \\\n",
       "Subject List                                                                 \n",
       "0       0       b'GRIDDLE'   b'DAHLIA'   b'SAUCER'    b'AZALEA'       None   \n",
       "        1     b'ARTICHOKE'  b'SPINACH'   b'POTATO'      b'SUIT'  b'CLOSET'   \n",
       "        2             None        None        None         None       None   \n",
       "        3         b'LEMON'     b'IOWA'  b'FLORIDA'  b'MICHIGAN'   b'MOOSE'   \n",
       "        4        b'ALCOVE'        None        None         None       None   \n",
       "\n",
       "                      9  ...    12    13   14   15   16   17  18  19  20  21  \n",
       "Subject List             ...                                                  \n",
       "0       0           None ...  None  None  NaN  NaN  NaN  NaN NaN NaN NaN NaN  \n",
       "        1     b'CHIMNEY' ...  None  None  NaN  NaN  NaN  NaN NaN NaN NaN NaN  \n",
       "        2           None ...  None  None  NaN  NaN  NaN  NaN NaN NaN NaN NaN  \n",
       "        3      b'MONKEY' ...  None  None  NaN  NaN  NaN  NaN NaN NaN NaN NaN  \n",
       "        4           None ...  None  None  NaN  NaN  NaN  NaN NaN NaN NaN NaN  \n",
       "\n",
       "[5 rows x 22 columns]"
      ]
     },
     "execution_count": 3,
     "metadata": {},
     "output_type": "execute_result"
    }
   ],
   "source": [
    "egg.get_rec_items().head()"
   ]
  },
  {
   "cell_type": "markdown",
   "metadata": {},
   "source": [
    "We can start with the simplest analysis - recall accuracy - which is just the proportion of stimuli recalled that were in the encoding lists.  To compute accuracy, simply call the `analyze` method, with the `analysis` key word argument set to `accuracy`:"
   ]
  },
  {
   "cell_type": "markdown",
   "metadata": {},
   "source": [
    "## Recall Accuracy"
   ]
  },
  {
   "cell_type": "code",
   "execution_count": 5,
   "metadata": {
    "collapsed": true
   },
   "outputs": [
    {
     "data": {
      "text/html": [
       "<div>\n",
       "<style scoped>\n",
       "    .dataframe tbody tr th:only-of-type {\n",
       "        vertical-align: middle;\n",
       "    }\n",
       "\n",
       "    .dataframe tbody tr th {\n",
       "        vertical-align: top;\n",
       "    }\n",
       "\n",
       "    .dataframe thead th {\n",
       "        text-align: right;\n",
       "    }\n",
       "</style>\n",
       "<table border=\"1\" class=\"dataframe\">\n",
       "  <thead>\n",
       "    <tr style=\"text-align: right;\">\n",
       "      <th></th>\n",
       "      <th></th>\n",
       "      <th>0</th>\n",
       "    </tr>\n",
       "    <tr>\n",
       "      <th>Subject</th>\n",
       "      <th>List</th>\n",
       "      <th></th>\n",
       "    </tr>\n",
       "  </thead>\n",
       "  <tbody>\n",
       "    <tr>\n",
       "      <th rowspan=\"5\" valign=\"top\">0</th>\n",
       "      <th>0</th>\n",
       "      <td>0.5000</td>\n",
       "    </tr>\n",
       "    <tr>\n",
       "      <th>1</th>\n",
       "      <td>0.5625</td>\n",
       "    </tr>\n",
       "    <tr>\n",
       "      <th>2</th>\n",
       "      <td>0.1250</td>\n",
       "    </tr>\n",
       "    <tr>\n",
       "      <th>3</th>\n",
       "      <td>0.5625</td>\n",
       "    </tr>\n",
       "    <tr>\n",
       "      <th>4</th>\n",
       "      <td>0.3125</td>\n",
       "    </tr>\n",
       "  </tbody>\n",
       "</table>\n",
       "</div>"
      ],
      "text/plain": [
       "                   0\n",
       "Subject List        \n",
       "0       0     0.5000\n",
       "        1     0.5625\n",
       "        2     0.1250\n",
       "        3     0.5625\n",
       "        4     0.3125"
      ]
     },
     "execution_count": 5,
     "metadata": {},
     "output_type": "execute_result"
    }
   ],
   "source": [
    "acc = egg.analyze('accuracy')\n",
    "acc.get_data().head()"
   ]
  },
  {
   "cell_type": "markdown",
   "metadata": {},
   "source": [
    "The result is a `FriedEgg` data object.  The accuracy data can be retrieved using the `get_data` method, which returns a multi-index Pandas DataFrame where the first-level index is the subject identifier and the second level index is the list number.  By default, note that each list is analyzed separately.  However, you can easily return the average over lists using the `listgroup` kew word argument:"
   ]
  },
  {
   "cell_type": "code",
   "execution_count": 6,
   "metadata": {
    "collapsed": true
   },
   "outputs": [
    {
     "data": {
      "text/html": [
       "<div>\n",
       "<style scoped>\n",
       "    .dataframe tbody tr th:only-of-type {\n",
       "        vertical-align: middle;\n",
       "    }\n",
       "\n",
       "    .dataframe tbody tr th {\n",
       "        vertical-align: top;\n",
       "    }\n",
       "\n",
       "    .dataframe thead th {\n",
       "        text-align: right;\n",
       "    }\n",
       "</style>\n",
       "<table border=\"1\" class=\"dataframe\">\n",
       "  <thead>\n",
       "    <tr style=\"text-align: right;\">\n",
       "      <th></th>\n",
       "      <th></th>\n",
       "      <th>0</th>\n",
       "    </tr>\n",
       "    <tr>\n",
       "      <th>Subject</th>\n",
       "      <th>List</th>\n",
       "      <th></th>\n",
       "    </tr>\n",
       "  </thead>\n",
       "  <tbody>\n",
       "    <tr>\n",
       "      <th>0</th>\n",
       "      <th>average</th>\n",
       "      <td>0.367188</td>\n",
       "    </tr>\n",
       "    <tr>\n",
       "      <th>1</th>\n",
       "      <th>average</th>\n",
       "      <td>0.601562</td>\n",
       "    </tr>\n",
       "    <tr>\n",
       "      <th>2</th>\n",
       "      <th>average</th>\n",
       "      <td>0.742188</td>\n",
       "    </tr>\n",
       "    <tr>\n",
       "      <th>3</th>\n",
       "      <th>average</th>\n",
       "      <td>0.546875</td>\n",
       "    </tr>\n",
       "    <tr>\n",
       "      <th>4</th>\n",
       "      <th>average</th>\n",
       "      <td>0.867188</td>\n",
       "    </tr>\n",
       "  </tbody>\n",
       "</table>\n",
       "</div>"
      ],
      "text/plain": [
       "                        0\n",
       "Subject List             \n",
       "0       average  0.367188\n",
       "1       average  0.601562\n",
       "2       average  0.742188\n",
       "3       average  0.546875\n",
       "4       average  0.867188"
      ]
     },
     "execution_count": 6,
     "metadata": {},
     "output_type": "execute_result"
    }
   ],
   "source": [
    "accuracy_avg = egg.analyze('accuracy', listgroup=['average']*8)\n",
    "accuracy_avg.get_data().head()"
   ]
  },
  {
   "cell_type": "markdown",
   "metadata": {},
   "source": [
    "Now, the result is a single value for each subject representing the average accuracy across the 16 lists. The `listgroup` kwarg can also be used to do some fancier groupings, like splitting the data into the first and second half of the experiment:"
   ]
  },
  {
   "cell_type": "code",
   "execution_count": 7,
   "metadata": {
    "collapsed": true
   },
   "outputs": [
    {
     "data": {
      "text/html": [
       "<div>\n",
       "<style scoped>\n",
       "    .dataframe tbody tr th:only-of-type {\n",
       "        vertical-align: middle;\n",
       "    }\n",
       "\n",
       "    .dataframe tbody tr th {\n",
       "        vertical-align: top;\n",
       "    }\n",
       "\n",
       "    .dataframe thead th {\n",
       "        text-align: right;\n",
       "    }\n",
       "</style>\n",
       "<table border=\"1\" class=\"dataframe\">\n",
       "  <thead>\n",
       "    <tr style=\"text-align: right;\">\n",
       "      <th></th>\n",
       "      <th></th>\n",
       "      <th>0</th>\n",
       "    </tr>\n",
       "    <tr>\n",
       "      <th>Subject</th>\n",
       "      <th>List</th>\n",
       "      <th></th>\n",
       "    </tr>\n",
       "  </thead>\n",
       "  <tbody>\n",
       "    <tr>\n",
       "      <th rowspan=\"2\" valign=\"top\">0</th>\n",
       "      <th>First Half</th>\n",
       "      <td>0.437500</td>\n",
       "    </tr>\n",
       "    <tr>\n",
       "      <th>Second Half</th>\n",
       "      <td>0.296875</td>\n",
       "    </tr>\n",
       "    <tr>\n",
       "      <th rowspan=\"2\" valign=\"top\">1</th>\n",
       "      <th>First Half</th>\n",
       "      <td>0.546875</td>\n",
       "    </tr>\n",
       "    <tr>\n",
       "      <th>Second Half</th>\n",
       "      <td>0.656250</td>\n",
       "    </tr>\n",
       "    <tr>\n",
       "      <th>2</th>\n",
       "      <th>First Half</th>\n",
       "      <td>0.734375</td>\n",
       "    </tr>\n",
       "  </tbody>\n",
       "</table>\n",
       "</div>"
      ],
      "text/plain": [
       "                            0\n",
       "Subject List                 \n",
       "0       First Half   0.437500\n",
       "        Second Half  0.296875\n",
       "1       First Half   0.546875\n",
       "        Second Half  0.656250\n",
       "2       First Half   0.734375"
      ]
     },
     "execution_count": 7,
     "metadata": {},
     "output_type": "execute_result"
    }
   ],
   "source": [
    "accuracy_split = egg.analyze('accuracy', listgroup=['First Half']*4+['Second Half']*4)\n",
    "accuracy_split.get_data().head()"
   ]
  },
  {
   "cell_type": "markdown",
   "metadata": {},
   "source": [
    "These analysis results can be passed directly into the plot function like so:"
   ]
  },
  {
   "cell_type": "code",
   "execution_count": 8,
   "metadata": {
    "collapsed": true
   },
   "outputs": [
    {
     "data": {
      "text/plain": [
       "<matplotlib.axes._subplots.AxesSubplot at 0x10ec5d3c8>"
      ]
     },
     "execution_count": 8,
     "metadata": {},
     "output_type": "execute_result"
    },
    {
     "data": {
      "image/png": "[encoded data removed]",
      "text/plain": [
       "<Figure size 432x288 with 1 Axes>"
      ]
     },
     "metadata": {},
     "output_type": "display_data"
    }
   ],
   "source": [
    "accuracy_split.plot()"
   ]
  },
  {
   "cell_type": "markdown",
   "metadata": {},
   "source": [
    "For more details on plotting, see the advanced plotting tutorial. Next, lets take a look at the serial position curve analysis.  As stated above the serial position curve (or spc) computes recall accuracy as a function of the encoding position of the stimulus.  To use it, use the same `analyze` method illustrated above, but set the `analysis` kwarg to `spc`.  Let's also average across lists within subject:"
   ]
  },
  {
   "cell_type": "markdown",
   "metadata": {},
   "source": [
    "## Serial Position Curve"
   ]
  },
  {
   "cell_type": "code",
   "execution_count": 9,
   "metadata": {
    "collapsed": true
   },
   "outputs": [
    {
     "data": {
      "text/html": [
       "<div>\n",
       "<style scoped>\n",
       "    .dataframe tbody tr th:only-of-type {\n",
       "        vertical-align: middle;\n",
       "    }\n",
       "\n",
       "    .dataframe tbody tr th {\n",
       "        vertical-align: top;\n",
       "    }\n",
       "\n",
       "    .dataframe thead th {\n",
       "        text-align: right;\n",
       "    }\n",
       "</style>\n",
       "<table border=\"1\" class=\"dataframe\">\n",
       "  <thead>\n",
       "    <tr style=\"text-align: right;\">\n",
       "      <th></th>\n",
       "      <th></th>\n",
       "      <th>0</th>\n",
       "      <th>1</th>\n",
       "      <th>2</th>\n",
       "      <th>3</th>\n",
       "      <th>4</th>\n",
       "      <th>5</th>\n",
       "      <th>6</th>\n",
       "      <th>7</th>\n",
       "      <th>8</th>\n",
       "      <th>9</th>\n",
       "      <th>10</th>\n",
       "      <th>11</th>\n",
       "      <th>12</th>\n",
       "      <th>13</th>\n",
       "      <th>14</th>\n",
       "      <th>15</th>\n",
       "    </tr>\n",
       "    <tr>\n",
       "      <th>Subject</th>\n",
       "      <th>List</th>\n",
       "      <th></th>\n",
       "      <th></th>\n",
       "      <th></th>\n",
       "      <th></th>\n",
       "      <th></th>\n",
       "      <th></th>\n",
       "      <th></th>\n",
       "      <th></th>\n",
       "      <th></th>\n",
       "      <th></th>\n",
       "      <th></th>\n",
       "      <th></th>\n",
       "      <th></th>\n",
       "      <th></th>\n",
       "      <th></th>\n",
       "      <th></th>\n",
       "    </tr>\n",
       "  </thead>\n",
       "  <tbody>\n",
       "    <tr>\n",
       "      <th>0</th>\n",
       "      <th>average</th>\n",
       "      <td>0.625</td>\n",
       "      <td>0.625</td>\n",
       "      <td>0.375</td>\n",
       "      <td>0.250</td>\n",
       "      <td>0.250</td>\n",
       "      <td>0.375</td>\n",
       "      <td>0.125</td>\n",
       "      <td>0.375</td>\n",
       "      <td>0.250</td>\n",
       "      <td>0.375</td>\n",
       "      <td>0.250</td>\n",
       "      <td>0.250</td>\n",
       "      <td>0.375</td>\n",
       "      <td>0.625</td>\n",
       "      <td>0.500</td>\n",
       "      <td>0.250</td>\n",
       "    </tr>\n",
       "    <tr>\n",
       "      <th>1</th>\n",
       "      <th>average</th>\n",
       "      <td>0.875</td>\n",
       "      <td>0.625</td>\n",
       "      <td>0.375</td>\n",
       "      <td>0.625</td>\n",
       "      <td>0.625</td>\n",
       "      <td>0.625</td>\n",
       "      <td>0.750</td>\n",
       "      <td>0.625</td>\n",
       "      <td>0.375</td>\n",
       "      <td>0.500</td>\n",
       "      <td>0.375</td>\n",
       "      <td>0.875</td>\n",
       "      <td>0.750</td>\n",
       "      <td>0.375</td>\n",
       "      <td>0.625</td>\n",
       "      <td>0.625</td>\n",
       "    </tr>\n",
       "    <tr>\n",
       "      <th>2</th>\n",
       "      <th>average</th>\n",
       "      <td>0.875</td>\n",
       "      <td>1.000</td>\n",
       "      <td>0.750</td>\n",
       "      <td>0.875</td>\n",
       "      <td>0.500</td>\n",
       "      <td>0.750</td>\n",
       "      <td>0.625</td>\n",
       "      <td>1.000</td>\n",
       "      <td>0.750</td>\n",
       "      <td>0.625</td>\n",
       "      <td>0.625</td>\n",
       "      <td>0.625</td>\n",
       "      <td>0.875</td>\n",
       "      <td>0.625</td>\n",
       "      <td>0.750</td>\n",
       "      <td>0.625</td>\n",
       "    </tr>\n",
       "    <tr>\n",
       "      <th>3</th>\n",
       "      <th>average</th>\n",
       "      <td>0.875</td>\n",
       "      <td>1.000</td>\n",
       "      <td>0.750</td>\n",
       "      <td>0.750</td>\n",
       "      <td>0.625</td>\n",
       "      <td>0.625</td>\n",
       "      <td>0.500</td>\n",
       "      <td>0.500</td>\n",
       "      <td>0.250</td>\n",
       "      <td>0.500</td>\n",
       "      <td>0.000</td>\n",
       "      <td>0.375</td>\n",
       "      <td>0.625</td>\n",
       "      <td>0.375</td>\n",
       "      <td>0.375</td>\n",
       "      <td>0.625</td>\n",
       "    </tr>\n",
       "    <tr>\n",
       "      <th>4</th>\n",
       "      <th>average</th>\n",
       "      <td>1.000</td>\n",
       "      <td>1.000</td>\n",
       "      <td>1.000</td>\n",
       "      <td>1.000</td>\n",
       "      <td>0.750</td>\n",
       "      <td>0.875</td>\n",
       "      <td>0.875</td>\n",
       "      <td>0.875</td>\n",
       "      <td>1.000</td>\n",
       "      <td>0.750</td>\n",
       "      <td>0.750</td>\n",
       "      <td>0.625</td>\n",
       "      <td>0.750</td>\n",
       "      <td>0.750</td>\n",
       "      <td>1.000</td>\n",
       "      <td>0.875</td>\n",
       "    </tr>\n",
       "  </tbody>\n",
       "</table>\n",
       "</div>"
      ],
      "text/plain": [
       "                    0      1      2      3      4      5      6      7   \\\n",
       "Subject List                                                              \n",
       "0       average  0.625  0.625  0.375  0.250  0.250  0.375  0.125  0.375   \n",
       "1       average  0.875  0.625  0.375  0.625  0.625  0.625  0.750  0.625   \n",
       "2       average  0.875  1.000  0.750  0.875  0.500  0.750  0.625  1.000   \n",
       "3       average  0.875  1.000  0.750  0.750  0.625  0.625  0.500  0.500   \n",
       "4       average  1.000  1.000  1.000  1.000  0.750  0.875  0.875  0.875   \n",
       "\n",
       "                    8      9      10     11     12     13     14     15  \n",
       "Subject List                                                             \n",
       "0       average  0.250  0.375  0.250  0.250  0.375  0.625  0.500  0.250  \n",
       "1       average  0.375  0.500  0.375  0.875  0.750  0.375  0.625  0.625  \n",
       "2       average  0.750  0.625  0.625  0.625  0.875  0.625  0.750  0.625  \n",
       "3       average  0.250  0.500  0.000  0.375  0.625  0.375  0.375  0.625  \n",
       "4       average  1.000  0.750  0.750  0.625  0.750  0.750  1.000  0.875  "
      ]
     },
     "execution_count": 9,
     "metadata": {},
     "output_type": "execute_result"
    }
   ],
   "source": [
    "spc = egg.analyze('spc', listgroup=['average']*8)\n",
    "spc.get_data().head()"
   ]
  },
  {
   "cell_type": "markdown",
   "metadata": {},
   "source": [
    "The result is a df where each row is a subject and each column is the encoding position of the word. To plot, simply pass the result of the analysis function to the plot function:"
   ]
  },
  {
   "cell_type": "code",
   "execution_count": 11,
   "metadata": {
    "collapsed": true
   },
   "outputs": [
    {
     "data": {
      "text/plain": [
       "<matplotlib.axes._subplots.AxesSubplot at 0x10ed217f0>"
      ]
     },
     "execution_count": 11,
     "metadata": {},
     "output_type": "execute_result"
    },
    {
     "data": {
      "image/png": "[encoded data removed]",
      "text/plain": [
       "<Figure size 432x288 with 1 Axes>"
      ]
     },
     "metadata": {},
     "output_type": "display_data"
    }
   ],
   "source": [
    "spc.plot(ylim=[0, 1])"
   ]
  },
  {
   "cell_type": "markdown",
   "metadata": {},
   "source": [
    "## Probability of First Recall\n",
    "\n",
    "The next analysis we'll take a look at is the probability of first recall, which is the probability that a word will be recalled first as a function of its encoding position. To compute this, call the `analyze` method with the `analysis` kwarg set to `pfr`. Again, we'll average over lists:"
   ]
  },
  {
   "cell_type": "code",
   "execution_count": 12,
   "metadata": {
    "collapsed": true
   },
   "outputs": [
    {
     "data": {
      "text/html": [
       "<div>\n",
       "<style scoped>\n",
       "    .dataframe tbody tr th:only-of-type {\n",
       "        vertical-align: middle;\n",
       "    }\n",
       "\n",
       "    .dataframe tbody tr th {\n",
       "        vertical-align: top;\n",
       "    }\n",
       "\n",
       "    .dataframe thead th {\n",
       "        text-align: right;\n",
       "    }\n",
       "</style>\n",
       "<table border=\"1\" class=\"dataframe\">\n",
       "  <thead>\n",
       "    <tr style=\"text-align: right;\">\n",
       "      <th></th>\n",
       "      <th></th>\n",
       "      <th>0</th>\n",
       "      <th>1</th>\n",
       "      <th>2</th>\n",
       "      <th>3</th>\n",
       "      <th>4</th>\n",
       "      <th>5</th>\n",
       "      <th>6</th>\n",
       "      <th>7</th>\n",
       "      <th>8</th>\n",
       "      <th>9</th>\n",
       "      <th>10</th>\n",
       "      <th>11</th>\n",
       "      <th>12</th>\n",
       "      <th>13</th>\n",
       "      <th>14</th>\n",
       "      <th>15</th>\n",
       "    </tr>\n",
       "    <tr>\n",
       "      <th>Subject</th>\n",
       "      <th>List</th>\n",
       "      <th></th>\n",
       "      <th></th>\n",
       "      <th></th>\n",
       "      <th></th>\n",
       "      <th></th>\n",
       "      <th></th>\n",
       "      <th></th>\n",
       "      <th></th>\n",
       "      <th></th>\n",
       "      <th></th>\n",
       "      <th></th>\n",
       "      <th></th>\n",
       "      <th></th>\n",
       "      <th></th>\n",
       "      <th></th>\n",
       "      <th></th>\n",
       "    </tr>\n",
       "  </thead>\n",
       "  <tbody>\n",
       "    <tr>\n",
       "      <th>0</th>\n",
       "      <th>average</th>\n",
       "      <td>0.250</td>\n",
       "      <td>0.000</td>\n",
       "      <td>0.000</td>\n",
       "      <td>0.125</td>\n",
       "      <td>0.0</td>\n",
       "      <td>0.0</td>\n",
       "      <td>0.000</td>\n",
       "      <td>0.0</td>\n",
       "      <td>0.0</td>\n",
       "      <td>0.125</td>\n",
       "      <td>0.125</td>\n",
       "      <td>0.0</td>\n",
       "      <td>0.000</td>\n",
       "      <td>0.000</td>\n",
       "      <td>0.000</td>\n",
       "      <td>0.125</td>\n",
       "    </tr>\n",
       "    <tr>\n",
       "      <th>1</th>\n",
       "      <th>average</th>\n",
       "      <td>0.250</td>\n",
       "      <td>0.000</td>\n",
       "      <td>0.000</td>\n",
       "      <td>0.000</td>\n",
       "      <td>0.0</td>\n",
       "      <td>0.0</td>\n",
       "      <td>0.000</td>\n",
       "      <td>0.0</td>\n",
       "      <td>0.0</td>\n",
       "      <td>0.000</td>\n",
       "      <td>0.000</td>\n",
       "      <td>0.0</td>\n",
       "      <td>0.250</td>\n",
       "      <td>0.000</td>\n",
       "      <td>0.375</td>\n",
       "      <td>0.000</td>\n",
       "    </tr>\n",
       "    <tr>\n",
       "      <th>2</th>\n",
       "      <th>average</th>\n",
       "      <td>0.375</td>\n",
       "      <td>0.000</td>\n",
       "      <td>0.000</td>\n",
       "      <td>0.000</td>\n",
       "      <td>0.0</td>\n",
       "      <td>0.0</td>\n",
       "      <td>0.125</td>\n",
       "      <td>0.0</td>\n",
       "      <td>0.0</td>\n",
       "      <td>0.000</td>\n",
       "      <td>0.125</td>\n",
       "      <td>0.0</td>\n",
       "      <td>0.125</td>\n",
       "      <td>0.125</td>\n",
       "      <td>0.000</td>\n",
       "      <td>0.125</td>\n",
       "    </tr>\n",
       "    <tr>\n",
       "      <th>3</th>\n",
       "      <th>average</th>\n",
       "      <td>0.625</td>\n",
       "      <td>0.125</td>\n",
       "      <td>0.000</td>\n",
       "      <td>0.000</td>\n",
       "      <td>0.0</td>\n",
       "      <td>0.0</td>\n",
       "      <td>0.000</td>\n",
       "      <td>0.0</td>\n",
       "      <td>0.0</td>\n",
       "      <td>0.000</td>\n",
       "      <td>0.000</td>\n",
       "      <td>0.0</td>\n",
       "      <td>0.000</td>\n",
       "      <td>0.000</td>\n",
       "      <td>0.125</td>\n",
       "      <td>0.125</td>\n",
       "    </tr>\n",
       "    <tr>\n",
       "      <th>4</th>\n",
       "      <th>average</th>\n",
       "      <td>0.250</td>\n",
       "      <td>0.000</td>\n",
       "      <td>0.125</td>\n",
       "      <td>0.000</td>\n",
       "      <td>0.0</td>\n",
       "      <td>0.0</td>\n",
       "      <td>0.000</td>\n",
       "      <td>0.0</td>\n",
       "      <td>0.0</td>\n",
       "      <td>0.000</td>\n",
       "      <td>0.000</td>\n",
       "      <td>0.0</td>\n",
       "      <td>0.375</td>\n",
       "      <td>0.125</td>\n",
       "      <td>0.000</td>\n",
       "      <td>0.125</td>\n",
       "    </tr>\n",
       "  </tbody>\n",
       "</table>\n",
       "</div>"
      ],
      "text/plain": [
       "                    0      1      2      3    4    5      6    7    8      9   \\\n",
       "Subject List                                                                    \n",
       "0       average  0.250  0.000  0.000  0.125  0.0  0.0  0.000  0.0  0.0  0.125   \n",
       "1       average  0.250  0.000  0.000  0.000  0.0  0.0  0.000  0.0  0.0  0.000   \n",
       "2       average  0.375  0.000  0.000  0.000  0.0  0.0  0.125  0.0  0.0  0.000   \n",
       "3       average  0.625  0.125  0.000  0.000  0.0  0.0  0.000  0.0  0.0  0.000   \n",
       "4       average  0.250  0.000  0.125  0.000  0.0  0.0  0.000  0.0  0.0  0.000   \n",
       "\n",
       "                    10   11     12     13     14     15  \n",
       "Subject List                                             \n",
       "0       average  0.125  0.0  0.000  0.000  0.000  0.125  \n",
       "1       average  0.000  0.0  0.250  0.000  0.375  0.000  \n",
       "2       average  0.125  0.0  0.125  0.125  0.000  0.125  \n",
       "3       average  0.000  0.0  0.000  0.000  0.125  0.125  \n",
       "4       average  0.000  0.0  0.375  0.125  0.000  0.125  "
      ]
     },
     "execution_count": 12,
     "metadata": {},
     "output_type": "execute_result"
    }
   ],
   "source": [
    "pfr = egg.analyze('pfr', listgroup=['average']*8)\n",
    "pfr.get_data().head()"
   ]
  },
  {
   "cell_type": "markdown",
   "metadata": {},
   "source": [
    "This df is set up just like the serial position curve.  To plot:"
   ]
  },
  {
   "cell_type": "code",
   "execution_count": 13,
   "metadata": {
    "collapsed": true
   },
   "outputs": [
    {
     "data": {
      "text/plain": [
       "<matplotlib.axes._subplots.AxesSubplot at 0x10ec963c8>"
      ]
     },
     "execution_count": 13,
     "metadata": {},
     "output_type": "execute_result"
    },
    {
     "data": {
      "image/png": "[encoded data removed]",
      "text/plain": [
       "<Figure size 432x288 with 1 Axes>"
      ]
     },
     "metadata": {},
     "output_type": "display_data"
    }
   ],
   "source": [
    "pfr.plot()"
   ]
  },
  {
   "cell_type": "markdown",
   "metadata": {},
   "source": [
    "## Lag-CRP\n",
    "\n",
    "The next analysis to consider is the lag-CRP, which again is a function that given the recall of word n, returns the probability of recalling words at neighboring positions (n+/-1, 2, 3 etc). To use it? You guessed it: call the `analyze` method with the `analysis` kwarg set to `lagcrp`:"
   ]
  },
  {
   "cell_type": "code",
   "execution_count": 15,
   "metadata": {
    "collapsed": true
   },
   "outputs": [
    {
     "name": "stderr",
     "output_type": "stream",
     "text": [
      "/Users/andrewheusser/Documents/github/quail/quail/analysis/lagcrp.py:129: RuntimeWarning: Mean of empty slice\n",
      "  return np.nanmean(lagcrp, axis=0)\n"
     ]
    },
    {
     "data": {
      "text/html": [
       "<div>\n",
       "<style scoped>\n",
       "    .dataframe tbody tr th:only-of-type {\n",
       "        vertical-align: middle;\n",
       "    }\n",
       "\n",
       "    .dataframe tbody tr th {\n",
       "        vertical-align: top;\n",
       "    }\n",
       "\n",
       "    .dataframe thead th {\n",
       "        text-align: right;\n",
       "    }\n",
       "</style>\n",
       "<table border=\"1\" class=\"dataframe\">\n",
       "  <thead>\n",
       "    <tr style=\"text-align: right;\">\n",
       "      <th></th>\n",
       "      <th></th>\n",
       "      <th>-16</th>\n",
       "      <th>-15</th>\n",
       "      <th>-14</th>\n",
       "      <th>-13</th>\n",
       "      <th>-12</th>\n",
       "      <th>-11</th>\n",
       "      <th>-10</th>\n",
       "      <th>-9</th>\n",
       "      <th>-8</th>\n",
       "      <th>-7</th>\n",
       "      <th>...</th>\n",
       "      <th>7</th>\n",
       "      <th>8</th>\n",
       "      <th>9</th>\n",
       "      <th>10</th>\n",
       "      <th>11</th>\n",
       "      <th>12</th>\n",
       "      <th>13</th>\n",
       "      <th>14</th>\n",
       "      <th>15</th>\n",
       "      <th>16</th>\n",
       "    </tr>\n",
       "    <tr>\n",
       "      <th>Subject</th>\n",
       "      <th>List</th>\n",
       "      <th></th>\n",
       "      <th></th>\n",
       "      <th></th>\n",
       "      <th></th>\n",
       "      <th></th>\n",
       "      <th></th>\n",
       "      <th></th>\n",
       "      <th></th>\n",
       "      <th></th>\n",
       "      <th></th>\n",
       "      <th></th>\n",
       "      <th></th>\n",
       "      <th></th>\n",
       "      <th></th>\n",
       "      <th></th>\n",
       "      <th></th>\n",
       "      <th></th>\n",
       "      <th></th>\n",
       "      <th></th>\n",
       "      <th></th>\n",
       "      <th></th>\n",
       "    </tr>\n",
       "  </thead>\n",
       "  <tbody>\n",
       "    <tr>\n",
       "      <th>0</th>\n",
       "      <th>average</th>\n",
       "      <td>0.0</td>\n",
       "      <td>0.125</td>\n",
       "      <td>0.1250</td>\n",
       "      <td>0.0625</td>\n",
       "      <td>0.000000</td>\n",
       "      <td>0.000000</td>\n",
       "      <td>0.041667</td>\n",
       "      <td>0.062500</td>\n",
       "      <td>0.083333</td>\n",
       "      <td>0.000000</td>\n",
       "      <td>...</td>\n",
       "      <td>0.229167</td>\n",
       "      <td>0.025000</td>\n",
       "      <td>0.083333</td>\n",
       "      <td>0.000000</td>\n",
       "      <td>0.0</td>\n",
       "      <td>0.062500</td>\n",
       "      <td>0.250000</td>\n",
       "      <td>0.0</td>\n",
       "      <td>0.0</td>\n",
       "      <td>0.0</td>\n",
       "    </tr>\n",
       "    <tr>\n",
       "      <th>1</th>\n",
       "      <th>average</th>\n",
       "      <td>0.0</td>\n",
       "      <td>0.000</td>\n",
       "      <td>0.0000</td>\n",
       "      <td>0.0000</td>\n",
       "      <td>0.041667</td>\n",
       "      <td>0.000000</td>\n",
       "      <td>0.000000</td>\n",
       "      <td>0.041667</td>\n",
       "      <td>0.087500</td>\n",
       "      <td>0.041667</td>\n",
       "      <td>...</td>\n",
       "      <td>0.041667</td>\n",
       "      <td>0.056250</td>\n",
       "      <td>0.000000</td>\n",
       "      <td>0.062500</td>\n",
       "      <td>0.0</td>\n",
       "      <td>0.104167</td>\n",
       "      <td>0.062500</td>\n",
       "      <td>0.0</td>\n",
       "      <td>0.0</td>\n",
       "      <td>0.0</td>\n",
       "    </tr>\n",
       "    <tr>\n",
       "      <th>2</th>\n",
       "      <th>average</th>\n",
       "      <td>0.0</td>\n",
       "      <td>0.125</td>\n",
       "      <td>0.0625</td>\n",
       "      <td>0.0000</td>\n",
       "      <td>0.041667</td>\n",
       "      <td>0.041667</td>\n",
       "      <td>0.000000</td>\n",
       "      <td>0.000000</td>\n",
       "      <td>0.187500</td>\n",
       "      <td>0.000000</td>\n",
       "      <td>...</td>\n",
       "      <td>0.015625</td>\n",
       "      <td>0.077083</td>\n",
       "      <td>0.000000</td>\n",
       "      <td>0.031250</td>\n",
       "      <td>0.0</td>\n",
       "      <td>0.000000</td>\n",
       "      <td>0.000000</td>\n",
       "      <td>0.0</td>\n",
       "      <td>0.0</td>\n",
       "      <td>0.0</td>\n",
       "    </tr>\n",
       "    <tr>\n",
       "      <th>3</th>\n",
       "      <th>average</th>\n",
       "      <td>0.0</td>\n",
       "      <td>0.250</td>\n",
       "      <td>0.0000</td>\n",
       "      <td>0.0000</td>\n",
       "      <td>0.000000</td>\n",
       "      <td>0.166667</td>\n",
       "      <td>0.062500</td>\n",
       "      <td>0.062500</td>\n",
       "      <td>0.250000</td>\n",
       "      <td>0.093750</td>\n",
       "      <td>...</td>\n",
       "      <td>0.062500</td>\n",
       "      <td>0.072917</td>\n",
       "      <td>0.092857</td>\n",
       "      <td>0.020833</td>\n",
       "      <td>0.0</td>\n",
       "      <td>0.031250</td>\n",
       "      <td>0.000000</td>\n",
       "      <td>0.0</td>\n",
       "      <td>0.0</td>\n",
       "      <td>0.0</td>\n",
       "    </tr>\n",
       "    <tr>\n",
       "      <th>4</th>\n",
       "      <th>average</th>\n",
       "      <td>0.0</td>\n",
       "      <td>0.125</td>\n",
       "      <td>0.1250</td>\n",
       "      <td>0.0000</td>\n",
       "      <td>0.000000</td>\n",
       "      <td>0.000000</td>\n",
       "      <td>0.125000</td>\n",
       "      <td>0.000000</td>\n",
       "      <td>0.000000</td>\n",
       "      <td>0.013889</td>\n",
       "      <td>...</td>\n",
       "      <td>0.013889</td>\n",
       "      <td>0.000000</td>\n",
       "      <td>0.000000</td>\n",
       "      <td>0.000000</td>\n",
       "      <td>0.0</td>\n",
       "      <td>0.000000</td>\n",
       "      <td>0.041667</td>\n",
       "      <td>0.0</td>\n",
       "      <td>0.0</td>\n",
       "      <td>0.0</td>\n",
       "    </tr>\n",
       "  </tbody>\n",
       "</table>\n",
       "<p>5 rows × 33 columns</p>\n",
       "</div>"
      ],
      "text/plain": [
       "                 -16    -15     -14     -13       -12       -11       -10  \\\n",
       "Subject List                                                                \n",
       "0       average  0.0  0.125  0.1250  0.0625  0.000000  0.000000  0.041667   \n",
       "1       average  0.0  0.000  0.0000  0.0000  0.041667  0.000000  0.000000   \n",
       "2       average  0.0  0.125  0.0625  0.0000  0.041667  0.041667  0.000000   \n",
       "3       average  0.0  0.250  0.0000  0.0000  0.000000  0.166667  0.062500   \n",
       "4       average  0.0  0.125  0.1250  0.0000  0.000000  0.000000  0.125000   \n",
       "\n",
       "                      -9        -8        -7  ...         7         8   \\\n",
       "Subject List                                  ...                        \n",
       "0       average  0.062500  0.083333  0.000000 ...   0.229167  0.025000   \n",
       "1       average  0.041667  0.087500  0.041667 ...   0.041667  0.056250   \n",
       "2       average  0.000000  0.187500  0.000000 ...   0.015625  0.077083   \n",
       "3       average  0.062500  0.250000  0.093750 ...   0.062500  0.072917   \n",
       "4       average  0.000000  0.000000  0.013889 ...   0.013889  0.000000   \n",
       "\n",
       "                       9         10   11        12        13   14   15   16  \n",
       "Subject List                                                                 \n",
       "0       average  0.083333  0.000000  0.0  0.062500  0.250000  0.0  0.0  0.0  \n",
       "1       average  0.000000  0.062500  0.0  0.104167  0.062500  0.0  0.0  0.0  \n",
       "2       average  0.000000  0.031250  0.0  0.000000  0.000000  0.0  0.0  0.0  \n",
       "3       average  0.092857  0.020833  0.0  0.031250  0.000000  0.0  0.0  0.0  \n",
       "4       average  0.000000  0.000000  0.0  0.000000  0.041667  0.0  0.0  0.0  \n",
       "\n",
       "[5 rows x 33 columns]"
      ]
     },
     "execution_count": 15,
     "metadata": {},
     "output_type": "execute_result"
    }
   ],
   "source": [
    "lagcrp = egg.analyze('lagcrp', listgroup=['average']*8)\n",
    "lagcrp.get_data().head()"
   ]
  },
  {
   "cell_type": "markdown",
   "metadata": {},
   "source": [
    "Unlike the previous two analyses, the result of this analysis returns a df where the number of columns are double the length of the lists.  To view the results:"
   ]
  },
  {
   "cell_type": "code",
   "execution_count": 16,
   "metadata": {
    "collapsed": true
   },
   "outputs": [
    {
     "data": {
      "text/plain": [
       "<matplotlib.axes._subplots.AxesSubplot at 0x10ef97e80>"
      ]
     },
     "execution_count": 16,
     "metadata": {},
     "output_type": "execute_result"
    },
    {
     "data": {
      "image/png": "[encoded data removed]",
      "text/plain": [
       "<Figure size 432x288 with 1 Axes>"
      ]
     },
     "metadata": {},
     "output_type": "display_data"
    }
   ],
   "source": [
    "lagcrp.plot()"
   ]
  },
  {
   "cell_type": "markdown",
   "metadata": {},
   "source": [
    "## Temporal clustering\n",
    "\n",
    "Another way to evaluate temporal clustering is to measure the temporal distance of each transition made with respect to where on a list the subject could have transitioned.  This 'temporal clustering score' is a good summary of how strongly participants are clustering their responses according to temporal proximity during encoding."
   ]
  },
  {
   "cell_type": "code",
   "execution_count": 17,
   "metadata": {
    "collapsed": true
   },
   "outputs": [
    {
     "data": {
      "text/plain": [
       "<matplotlib.axes._subplots.AxesSubplot at 0x10efd7358>"
      ]
     },
     "execution_count": 17,
     "metadata": {},
     "output_type": "execute_result"
    },
    {
     "data": {
      "image/png": "[encoded data removed]",
      "text/plain": [
       "<Figure size 432x288 with 1 Axes>"
      ]
     },
     "metadata": {},
     "output_type": "display_data"
    }
   ],
   "source": [
    "temporal = egg.analyze('temporal', listgroup=['First Half']*4+['Second Half']*4)\n",
    "temporal.plot(plot_style='violin', ylim=[0,1])"
   ]
  },
  {
   "cell_type": "markdown",
   "metadata": {},
   "source": [
    "## Memory Fingerprint\n",
    "\n",
    "Last but not least is the memory fingerprint analysis.  For a detailed treatment of this analysis, see the fingerprint tutorial.\n",
    "\n",
    "As described in the fingerprint tutorial, the `features` data structure is used to estimate how subjects cluster their recall responses with respect to the features of the encoded stimuli.  Briefly, these estimates are derived by computing the similarity of neighboring recall words along each feature dimension.  For example, if you recall \"dog\", and then the next word you recall is \"cat\", your clustering by category score would increase because the two recalled words are in the same category.  Similarly, if after you recall \"cat\" you recall the word \"can\", your clustering by starting letter score would increase, since both words share the first letter \"c\".  This logic can be extended to any number of feature dimensions.\n",
    "\n",
    "Here is a glimpse of the features df:"
   ]
  },
  {
   "cell_type": "code",
   "execution_count": 18,
   "metadata": {
    "collapsed": true
   },
   "outputs": [
    {
     "data": {
      "text/plain": [
       "['color',\n",
       " 'location',\n",
       " 'category',\n",
       " 'firstLetter',\n",
       " 'size',\n",
       " 'wordLength',\n",
       " 'temporal']"
      ]
     },
     "execution_count": 18,
     "metadata": {},
     "output_type": "execute_result"
    }
   ],
   "source": [
    "egg.feature_names"
   ]
  },
  {
   "cell_type": "markdown",
   "metadata": {},
   "source": [
    "Like the other analyses, computing the memory fingerprint can be done using the `analyze` method with the `analysis` kwarg set to `fingerprint`:"
   ]
  },
  {
   "cell_type": "code",
   "execution_count": 19,
   "metadata": {
    "collapsed": true
   },
   "outputs": [
    {
     "data": {
      "text/html": [
       "<div>\n",
       "<style scoped>\n",
       "    .dataframe tbody tr th:only-of-type {\n",
       "        vertical-align: middle;\n",
       "    }\n",
       "\n",
       "    .dataframe tbody tr th {\n",
       "        vertical-align: top;\n",
       "    }\n",
       "\n",
       "    .dataframe thead th {\n",
       "        text-align: right;\n",
       "    }\n",
       "</style>\n",
       "<table border=\"1\" class=\"dataframe\">\n",
       "  <thead>\n",
       "    <tr style=\"text-align: right;\">\n",
       "      <th></th>\n",
       "      <th></th>\n",
       "      <th>color</th>\n",
       "      <th>location</th>\n",
       "      <th>category</th>\n",
       "      <th>firstLetter</th>\n",
       "      <th>size</th>\n",
       "      <th>wordLength</th>\n",
       "      <th>temporal</th>\n",
       "    </tr>\n",
       "    <tr>\n",
       "      <th>Subject</th>\n",
       "      <th>List</th>\n",
       "      <th></th>\n",
       "      <th></th>\n",
       "      <th></th>\n",
       "      <th></th>\n",
       "      <th></th>\n",
       "      <th></th>\n",
       "      <th></th>\n",
       "    </tr>\n",
       "  </thead>\n",
       "  <tbody>\n",
       "    <tr>\n",
       "      <th>0</th>\n",
       "      <th>average</th>\n",
       "      <td>0.535778</td>\n",
       "      <td>0.535778</td>\n",
       "      <td>0.587560</td>\n",
       "      <td>0.536292</td>\n",
       "      <td>0.648455</td>\n",
       "      <td>0.482460</td>\n",
       "      <td>0.418536</td>\n",
       "    </tr>\n",
       "    <tr>\n",
       "      <th>1</th>\n",
       "      <th>average</th>\n",
       "      <td>0.541546</td>\n",
       "      <td>0.541546</td>\n",
       "      <td>0.554500</td>\n",
       "      <td>0.492277</td>\n",
       "      <td>0.507837</td>\n",
       "      <td>0.522564</td>\n",
       "      <td>0.633390</td>\n",
       "    </tr>\n",
       "    <tr>\n",
       "      <th>2</th>\n",
       "      <th>average</th>\n",
       "      <td>0.548408</td>\n",
       "      <td>0.548408</td>\n",
       "      <td>0.618258</td>\n",
       "      <td>0.531006</td>\n",
       "      <td>0.601335</td>\n",
       "      <td>0.468233</td>\n",
       "      <td>0.659474</td>\n",
       "    </tr>\n",
       "    <tr>\n",
       "      <th>3</th>\n",
       "      <th>average</th>\n",
       "      <td>0.541722</td>\n",
       "      <td>0.541722</td>\n",
       "      <td>0.558331</td>\n",
       "      <td>0.501190</td>\n",
       "      <td>0.555992</td>\n",
       "      <td>0.446369</td>\n",
       "      <td>0.566537</td>\n",
       "    </tr>\n",
       "    <tr>\n",
       "      <th>4</th>\n",
       "      <th>average</th>\n",
       "      <td>0.560181</td>\n",
       "      <td>0.560181</td>\n",
       "      <td>0.519353</td>\n",
       "      <td>0.508005</td>\n",
       "      <td>0.559776</td>\n",
       "      <td>0.498794</td>\n",
       "      <td>0.763377</td>\n",
       "    </tr>\n",
       "  </tbody>\n",
       "</table>\n",
       "</div>"
      ],
      "text/plain": [
       "                    color  location  category  firstLetter      size  \\\n",
       "Subject List                                                           \n",
       "0       average  0.535778  0.535778  0.587560     0.536292  0.648455   \n",
       "1       average  0.541546  0.541546  0.554500     0.492277  0.507837   \n",
       "2       average  0.548408  0.548408  0.618258     0.531006  0.601335   \n",
       "3       average  0.541722  0.541722  0.558331     0.501190  0.555992   \n",
       "4       average  0.560181  0.560181  0.519353     0.508005  0.559776   \n",
       "\n",
       "                 wordLength  temporal  \n",
       "Subject List                           \n",
       "0       average    0.482460  0.418536  \n",
       "1       average    0.522564  0.633390  \n",
       "2       average    0.468233  0.659474  \n",
       "3       average    0.446369  0.566537  \n",
       "4       average    0.498794  0.763377  "
      ]
     },
     "execution_count": 19,
     "metadata": {},
     "output_type": "execute_result"
    }
   ],
   "source": [
    "fingerprint = egg.analyze('fingerprint', listgroup=['average']*8)\n",
    "fingerprint.get_data().head()"
   ]
  },
  {
   "cell_type": "markdown",
   "metadata": {},
   "source": [
    "The result of this analysis is a df, where each row is a subject's fingerprint and each column is a feature dimensions.  The values represent a subjects tendency to cluster their recall responses along a particular feature dimensions.  They are probability values, and thus, greater values indicate more clustering along that feature dimension.  To plot, simply pass the result to the plot function:"
   ]
  },
  {
   "cell_type": "code",
   "execution_count": 24,
   "metadata": {
    "collapsed": true
   },
   "outputs": [
    {
     "data": {
      "text/plain": [
       "<matplotlib.axes._subplots.AxesSubplot at 0x10fa24748>"
      ]
     },
     "execution_count": 24,
     "metadata": {},
     "output_type": "execute_result"
    },
    {
     "data": {
      "image/png": "[encoded data removed]",
      "text/plain": [
       "<Figure size 432x288 with 1 Axes>"
      ]
     },
     "metadata": {},
     "output_type": "display_data"
    }
   ],
   "source": [
    "order=sorted(egg.feature_names)\n",
    "fingerprint.plot(order=order, ylim=[0, 1])"
   ]
  },
  {
   "cell_type": "markdown",
   "metadata": {},
   "source": [
    "This result suggests that subjects in this example dataset tended to cluster their recall responses by category as well as the size (bigger or smaller than a shoebox) of the word. List length and other properties of your experiment can bias these clustering scores.  To help with this, we implemented a permutation clustering procedure which shuffles the order of each recall list and recomputes the clustering score with respect to that distribution. Note: this also works with the temporal clustering analysis."
   ]
  },
  {
   "cell_type": "code",
   "execution_count": null,
   "metadata": {
    "collapsed": true
   },
   "outputs": [],
   "source": [
    "# warning: this can take a little while.  Setting parallel=True will help speed up the permutation computation\n",
    "# fingerprint = quail.analyze(egg, analysis='fingerprint', listgroup=['average']*8, permute=True, n_perms=100)\n",
    "# ax = quail.plot(fingerprint, ylim=[0,1.2])"
   ]
  }
 ],
 "metadata": {
  "kernelspec": {
   "display_name": "Python 3",
   "language": "python",
   "name": "python3"
  },
  "language_info": {
   "codemirror_mode": {
    "name": "ipython",
    "version": 3
   },
   "file_extension": ".py",
   "mimetype": "text/x-python",
   "name": "python",
   "nbconvert_exporter": "python",
   "pygments_lexer": "ipython3",
   "version": "3.6.5"
  }
 },
 "nbformat": 4,
 "nbformat_minor": 2
}
