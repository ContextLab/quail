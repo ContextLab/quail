{
 "cells": [
  {
   "cell_type": "markdown",
   "metadata": {},
   "source": [
    "# The Egg data object\n",
    "\n",
    "This tutorial will go over the basics of the `Egg` data object, the essential `quail` data structure that contains all the data you need to run analyses and plot the results. An egg is made up of two primary pieces of data: \n",
    "\n",
    "1. `pres` data - stimuli/features that were presented to a subject\n",
    "\n",
    "2. `rec` data - stimuli/features that were recalled by the subject.\n",
    "\n",
    "You cannot create an `egg` without both of these components.  Additionally, there are a few optional fields:\n",
    "\n",
    "1. `dist_funcs` dictionary - this field allows you to control the distance functions for each of the stimulus features.  For more on this, see the fingerprint tutorial.\n",
    "\n",
    "2. `meta` dictionary - this is an optional field that allows you to store custom meta data about the dataset, such as the date collected, experiment version etc.\n",
    "\n",
    "There are also a few other fields and functions to make organizing and modifying `eggs` easier (discussed at the bottom).  Now, lets dive in and create an `egg` from scratch."
   ]
  },
  {
   "cell_type": "markdown",
   "metadata": {},
   "source": [
    "## Load in the library"
   ]
  },
  {
   "cell_type": "code",
   "execution_count": null,
   "metadata": {
    "collapsed": true
   },
   "outputs": [],
   "source": [
    "import quail\n",
    "%matplotlib inline"
   ]
  },
  {
   "cell_type": "markdown",
   "metadata": {},
   "source": [
    "## The `pres` data structure\n",
    "\n",
    "The first piece of an `egg` is the `pres` data, or in other words the stimuli that were presented to the subject. For a single subject's data, the form of the input will be a list of lists, where each list is comprised of the words presented to the subject during a particular study block. Let's create a fake dataset of one subject who saw two encoding lists:"
   ]
  },
  {
   "cell_type": "code",
   "execution_count": null,
   "metadata": {
    "collapsed": true
   },
   "outputs": [],
   "source": [
    "presented_words = [['cat', 'bat', 'hat', 'goat'],['zoo', 'animal', 'zebra', 'horse']]"
   ]
  },
  {
   "cell_type": "markdown",
   "metadata": {},
   "source": [
    "## The `rec` data structure\n",
    "\n",
    "The second fundamental component of an egg is the `rec` data, or the words/stimuli that were recalled by the subject. Now, let's create the recall lists:"
   ]
  },
  {
   "cell_type": "code",
   "execution_count": null,
   "metadata": {
    "collapsed": true
   },
   "outputs": [],
   "source": [
    "recalled_words = [['bat', 'cat', 'goat', 'hat'],['animal', 'horse', 'zoo']]"
   ]
  },
  {
   "cell_type": "markdown",
   "metadata": {},
   "source": [
    "We now have the two components necessary to build an `egg`, so let's do that and then take a look at the result."
   ]
  },
  {
   "cell_type": "code",
   "execution_count": null,
   "metadata": {
    "collapsed": true
   },
   "outputs": [],
   "source": [
    "egg = quail.Egg(pres=presented_words, rec=recalled_words)"
   ]
  },
  {
   "cell_type": "markdown",
   "metadata": {},
   "source": [
    "That's it!  We've created our first `egg`. Let's take a closer look at how the `egg` is setup. We can use the `info` method to get a quick snapshot of the `egg`:"
   ]
  },
  {
   "cell_type": "code",
   "execution_count": null,
   "metadata": {
    "collapsed": true
   },
   "outputs": [],
   "source": [
    "egg.info()"
   ]
  },
  {
   "cell_type": "markdown",
   "metadata": {},
   "source": [
    "Now, let's take a closer look at how the `egg` is structured.  First, we will check out the `pres` field:"
   ]
  },
  {
   "cell_type": "code",
   "execution_count": null,
   "metadata": {
    "collapsed": true
   },
   "outputs": [],
   "source": [
    "egg.get_pres_items()"
   ]
  },
  {
   "cell_type": "markdown",
   "metadata": {},
   "source": [
    "As you can see above, the `pres` field was turned into a multi-index Pandas DataFrame organized by subject and by list. This is how the `pres` data is stored within an egg, which will make more sense when we consider larger datasets with more subjects.  Next, let's take a look at the `rec` data:"
   ]
  },
  {
   "cell_type": "code",
   "execution_count": null,
   "metadata": {
    "collapsed": true
   },
   "outputs": [],
   "source": [
    "egg.get_rec_items()"
   ]
  },
  {
   "cell_type": "markdown",
   "metadata": {},
   "source": [
    "The `rec` data is also stored as a DataFrame.  Notice that if the number of recalled words is shorter than the number of presented words, those columns are filled with a `NaN` value. Now, let's create an `egg` with two subject's data and take a look at the result."
   ]
  },
  {
   "cell_type": "markdown",
   "metadata": {},
   "source": [
    "## Multisubject `eggs`"
   ]
  },
  {
   "cell_type": "code",
   "execution_count": null,
   "metadata": {
    "collapsed": true
   },
   "outputs": [],
   "source": [
    "# presented words\n",
    "sub1_presented=[['cat', 'bat', 'hat', 'goat'],['zoo', 'animal', 'zebra', 'horse']]\n",
    "sub2_presented=[['cat', 'bat', 'hat', 'goat'],['zoo', 'animal', 'zebra', 'horse']]\n",
    "\n",
    "# recalled words\n",
    "sub1_recalled=[['bat', 'cat', 'goat', 'hat'],['animal', 'horse', 'zoo']]\n",
    "sub2_recalled=[['cat', 'goat', 'bat', 'hat'],['horse', 'zebra', 'zoo', 'animal']]\n",
    "\n",
    "# combine subject data\n",
    "presented_words = [sub1_presented, sub2_presented]\n",
    "recalled_words = [sub1_recalled, sub2_recalled]\n",
    "\n",
    "# create Egg\n",
    "multisubject_egg = quail.Egg(pres=presented_words, rec=recalled_words)\n",
    "\n",
    "multisubject_egg.info()"
   ]
  },
  {
   "cell_type": "markdown",
   "metadata": {},
   "source": [
    "As you can see above, in order to create an `egg` with more than one subject's data, all you do is create a list of subjects.  Let's see how the `pres` data is organized in the egg with more than one subject:"
   ]
  },
  {
   "cell_type": "code",
   "execution_count": null,
   "metadata": {
    "collapsed": true
   },
   "outputs": [],
   "source": [
    "multisubject_egg.get_pres_items()"
   ]
  },
  {
   "cell_type": "markdown",
   "metadata": {},
   "source": [
    "Looks identical to the single subject data, but now we have two unique subject identifiers in the `DataFrame`. The `rec` data is set up in the same way:"
   ]
  },
  {
   "cell_type": "code",
   "execution_count": null,
   "metadata": {
    "collapsed": true
   },
   "outputs": [],
   "source": [
    "multisubject_egg.get_rec_items()"
   ]
  },
  {
   "cell_type": "markdown",
   "metadata": {},
   "source": [
    "As you add more subjects, they are simply appended to the bottom of the df with a unique subject identifier."
   ]
  },
  {
   "cell_type": "markdown",
   "metadata": {},
   "source": [
    "## Adding features to the egg\n",
    "\n",
    "Stimuli can also be passed as a dictionary containing the stimulus and features of the stimulus. You can include any stimulus feature you want in this dictionary, such as the position of the word on the screen, the color, or perhaps the font of the word:"
   ]
  },
  {
   "cell_type": "code",
   "execution_count": null,
   "metadata": {
    "collapsed": true
   },
   "outputs": [],
   "source": [
    "cat_features = {\n",
    "    'item': 'cat',\n",
    "    'category': 'animal',\n",
    "    'word_length': 3,\n",
    "    'starting_letter': 'c',\n",
    "}"
   ]
  },
  {
   "cell_type": "markdown",
   "metadata": {},
   "source": [
    "Let's try creating an egg with additional stimulus features:"
   ]
  },
  {
   "cell_type": "code",
   "execution_count": null,
   "metadata": {
    "collapsed": true
   },
   "outputs": [],
   "source": [
    "# presentation features\n",
    "presented_words = [\n",
    "    [\n",
    "        {\n",
    "            'item': 'cat',\n",
    "            'category': 'animal',\n",
    "            'word_length': 3,\n",
    "            'starting_letter': 'c'\n",
    "        },\n",
    "        {\n",
    "            'item': ' bat',\n",
    "            'category': 'object',\n",
    "            'word_length': 3,\n",
    "            'starting_letter': 'b'\n",
    "        },\n",
    "        {\n",
    "            'item': 'hat',\n",
    "            'category': 'object',\n",
    "            'word_length': 3,\n",
    "            'starting_letter': 'h'\n",
    "        },\n",
    "        {\n",
    "            'item': 'goat',\n",
    "            'category': 'animal',\n",
    "            'word_length': 4,\n",
    "            'starting_letter': 'g'\n",
    "        },\n",
    "    ],\n",
    "    [\n",
    "        {\n",
    "            'item': 'zoo', \n",
    "            'category': 'place',\n",
    "            'word_length': 3,\n",
    "            'starting_letter': 'z'\n",
    "        },\n",
    "        {\n",
    "            'item': 'donkey',\n",
    "            'category' : 'animal',\n",
    "            'word_length' : 6,\n",
    "            'starting_letter' : 'd'\n",
    "        },\n",
    "        {\n",
    "            'item': 'zebra',\n",
    "            'category': 'animal',\n",
    "            'word_length': 5,\n",
    "            'starting_letter': 'z'\n",
    "        },\n",
    "        {\n",
    "            'item': 'horse',\n",
    "            'category': 'animal',\n",
    "            'word_length': 5,\n",
    "            'starting_letter': 'h'\n",
    "        },\n",
    "    ],\n",
    "]\n",
    "\n",
    "recalled_words = [\n",
    "    [\n",
    "        {\n",
    "            'item': ' bat',\n",
    "            'category': 'object',\n",
    "            'word_length': 3,\n",
    "            'starting_letter': 'b'\n",
    "        },\n",
    "        {\n",
    "            'item': 'cat',\n",
    "            'category': 'animal',\n",
    "            'word_length': 3,\n",
    "            'starting_letter': 'c'\n",
    "        },\n",
    "        {\n",
    "            'item': 'goat',\n",
    "            'category': 'animal',\n",
    "            'word_length': 4,\n",
    "            'starting_letter': 'g'\n",
    "        },\n",
    "        {\n",
    "            'item': 'hat',\n",
    "            'category': 'object',\n",
    "            'word_length': 3,\n",
    "            'starting_letter': 'h'\n",
    "        },\n",
    "    ],\n",
    "    [\n",
    "        {\n",
    "            'item': 'donkey',\n",
    "            'category' : 'animal',\n",
    "            'word_length' : 6,\n",
    "            'starting_letter' : 'd'\n",
    "        },\n",
    "        {\n",
    "            'item': 'horse',\n",
    "            'category': 'animal',\n",
    "            'word_length': 5,\n",
    "            'starting_letter': 'h'\n",
    "        },\n",
    "        {\n",
    "            'item': 'zoo', \n",
    "            'category': 'place',\n",
    "            'word_length': 3,\n",
    "            'starting_letter': 'z'\n",
    "        },\n",
    "\n",
    "    ],\n",
    "]\n",
    "\n",
    "# create egg object\n",
    "egg = quail.Egg(pres=presented_words, rec=recalled_words)"
   ]
  },
  {
   "cell_type": "markdown",
   "metadata": {},
   "source": [
    "Like before, you can use the `get_pres_items` method to retrieve the presented items:"
   ]
  },
  {
   "cell_type": "code",
   "execution_count": null,
   "metadata": {
    "collapsed": true
   },
   "outputs": [],
   "source": [
    "egg.get_pres_items()"
   ]
  },
  {
   "cell_type": "markdown",
   "metadata": {},
   "source": [
    "The stimulus features can be accessed by calling the `get_pres_features` method:"
   ]
  },
  {
   "cell_type": "code",
   "execution_count": null,
   "metadata": {
    "collapsed": true
   },
   "outputs": [],
   "source": [
    "egg.get_pres_features()"
   ]
  },
  {
   "cell_type": "markdown",
   "metadata": {},
   "source": [
    "## Defining custom distance functions for the stimulus feature dimensions"
   ]
  },
  {
   "cell_type": "markdown",
   "metadata": {},
   "source": [
    "As described in the fingerprint tutorial, the `features` data structure is used to estimate how subjects cluster their recall responses with respect to the features of the encoded stimuli.  Briefly, these estimates are derived by computing the similarity of neighboring recall words along each feature dimension.  For example, if you recall \"dog\", and then the next word you recall is \"cat\", your clustering by category score would increase because the two recalled words are in the same category.  Similarly, if after you recall \"cat\" you recall the word \"can\", your clustering by starting letter score would increase, since both words share the first letter \"c\".  This logic can be extended to any number of feature dimensions.\n",
    "\n",
    "Similarity between stimuli can be computed in a number of ways.  By default, the distance function for all textual features (like category, starting letter) is binary.  In other words, if the words are in the same category (cat, dog), there similarity would be 1, whereas if they are in different categories (cat, can) their similarity would be 0.  For numerical features (such as word length), by default similarity between words is computed using Euclidean distance.  However, the point of this digression is that you can define your own distance functions by passing a `dist_func` dictionary to the `Egg` class.  This could be for all feature dimensions, or only a subset. Let's see an example:"
   ]
  },
  {
   "cell_type": "code",
   "execution_count": null,
   "metadata": {
    "collapsed": true
   },
   "outputs": [],
   "source": [
    "dist_funcs = {\n",
    "    'word_length' : lambda x,y: (x-y)**2\n",
    "}\n",
    "\n",
    "egg = quail.Egg(pres=presented_words, rec=recalled_words, dist_funcs=dist_funcs)"
   ]
  },
  {
   "cell_type": "markdown",
   "metadata": {},
   "source": [
    "In the example code above, similarity between words for the word_length feature dimension will now be computed using this custom distance function, while all other feature dimensions will be set to the default."
   ]
  },
  {
   "cell_type": "markdown",
   "metadata": {},
   "source": [
    "## Adding meta data to an `egg`"
   ]
  },
  {
   "cell_type": "markdown",
   "metadata": {},
   "source": [
    "Lastly, we can add meta data to the `egg`.  We added this field to help researchers keep their eggs organized by adding custom meta data to the `egg` object. The data is added to the `egg` by passing the `meta` key word argument when creating the `egg`:"
   ]
  },
  {
   "cell_type": "code",
   "execution_count": null,
   "metadata": {
    "collapsed": true
   },
   "outputs": [],
   "source": [
    "meta = {\n",
    "    'Researcher' : 'Andy Heusser',\n",
    "    'Study' : 'Egg Tutorial'\n",
    "}\n",
    "\n",
    "egg = quail.Egg(pres=presented_words, rec=recalled_words, meta=meta)\n",
    "egg.info()"
   ]
  },
  {
   "cell_type": "markdown",
   "metadata": {},
   "source": [
    "## Adding `listgroup` and `subjgroup` to an `egg`\n",
    "\n",
    "While the `listgroup` and `subjgroup` arguments can be used within the `analyze` function, they can also be attached directly to the `egg`, allowing you to save condition labels for easy organization and easy data sharing.\n",
    "\n",
    "To do this, simply pass one or both of the arguments when creating the `egg`:"
   ]
  },
  {
   "cell_type": "code",
   "execution_count": null,
   "metadata": {
    "collapsed": true
   },
   "outputs": [],
   "source": [
    "# presented words\n",
    "sub1_presented=[['cat', 'bat', 'hat', 'goat'],['zoo', 'animal', 'zebra', 'horse']]\n",
    "sub2_presented=[['cat', 'bat', 'hat', 'goat'],['zoo', 'animal', 'zebra', 'horse']]\n",
    "\n",
    "# recalled words\n",
    "sub1_recalled=[['bat', 'cat', 'goat', 'hat'],['animal', 'horse', 'zoo']]\n",
    "sub2_recalled=[['cat', 'goat', 'bat', 'hat'],['horse', 'zebra', 'zoo', 'animal']]\n",
    "\n",
    "# combine subject data\n",
    "presented_words = [sub1_presented, sub2_presented]\n",
    "recalled_words = [sub1_recalled, sub2_recalled]\n",
    "\n",
    "# create Egg\n",
    "multisubject_egg = quail.Egg(pres=presented_words,rec=recalled_words, subjgroup=['condition1', 'condition2'],\n",
    "                            listgroup=['early','late'])"
   ]
  },
  {
   "cell_type": "markdown",
   "metadata": {},
   "source": [
    "## Saving an `egg`\n",
    "\n",
    "Once you have created your egg, you can save it for use later, or to share with colleagues. To do this, simply call the `save` method with a filepath:\n",
    "\n",
    "```\n",
    "multisubject_egg.save('myegg')\n",
    "```\n",
    "\n",
    "To load this egg later, simply call the `load_egg` function with the path of the egg:\n",
    "\n",
    "```\n",
    "egg = quail.load('myegg')\n",
    "```"
   ]
  },
  {
   "cell_type": "markdown",
   "metadata": {},
   "source": [
    "## Stacking `eggs`\n",
    "\n",
    "We now have two separate eggs, each with a single subject's data. Let's combine them by passing a `list` of `eggs` to the `stack_eggs` function:"
   ]
  },
  {
   "cell_type": "code",
   "execution_count": null,
   "metadata": {
    "collapsed": true
   },
   "outputs": [],
   "source": [
    "# subject 1 data\n",
    "sub1_presented=[['cat', 'bat', 'hat', 'goat'],['zoo', 'animal', 'zebra', 'horse']]\n",
    "sub1_recalled=[['bat', 'cat', 'goat', 'hat'],['animal', 'horse', 'zoo']]\n",
    "\n",
    "# create subject 2 egg\n",
    "subject1_egg = quail.Egg(pres=sub1_presented, rec=sub1_recalled)\n",
    "\n",
    "# subject 2 data\n",
    "sub2_presented=[['cat', 'bat', 'hat', 'goat'],['zoo', 'animal', 'zebra', 'horse']]\n",
    "sub2_recalled=[['cat', 'goat', 'bat', 'hat'],['horse', 'zebra', 'zoo', 'animal']]\n",
    "\n",
    "# create subject 2 egg\n",
    "subject2_egg = quail.Egg(pres=sub2_presented, rec=sub2_recalled)"
   ]
  },
  {
   "cell_type": "code",
   "execution_count": null,
   "metadata": {
    "collapsed": true
   },
   "outputs": [],
   "source": [
    "stacked_eggs = quail.stack_eggs([subject1_egg, subject2_egg])\n",
    "stacked_eggs.get_pres_items()"
   ]
  },
  {
   "cell_type": "markdown",
   "metadata": {},
   "source": [
    "## Cracking `eggs`\n",
    "\n",
    "You can use the `crack_egg` function to slice out a subset of subjects or lists:"
   ]
  },
  {
   "cell_type": "code",
   "execution_count": null,
   "metadata": {
    "collapsed": true
   },
   "outputs": [],
   "source": [
    "cracked_egg = quail.crack_egg(stacked_eggs, subjects=[1], lists=[0])\n",
    "cracked_egg.get_pres_items()"
   ]
  },
  {
   "cell_type": "markdown",
   "metadata": {},
   "source": [
    "Alternatively, you can use the `crack` method, which does the same thing:"
   ]
  },
  {
   "cell_type": "code",
   "execution_count": null,
   "metadata": {
    "collapsed": true
   },
   "outputs": [],
   "source": [
    "stacked_eggs.crack(subjects=[0,1], lists=[1]).get_pres_items()"
   ]
  }
 ],
 "metadata": {
  "kernelspec": {
   "display_name": "Python 3",
   "language": "python",
   "name": "python3"
  },
  "language_info": {
   "codemirror_mode": {
    "name": "ipython",
    "version": 3
   },
   "file_extension": ".py",
   "mimetype": "text/x-python",
   "name": "python",
   "nbconvert_exporter": "python",
   "pygments_lexer": "ipython3",
   "version": "3.6.2"
  }
 },
 "nbformat": 4,
 "nbformat_minor": 2
}
