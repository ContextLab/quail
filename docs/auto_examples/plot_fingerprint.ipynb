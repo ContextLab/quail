{
  "nbformat_minor": 0, 
  "nbformat": 4, 
  "cells": [
    {
      "execution_count": null, 
      "cell_type": "code", 
      "source": [
        "%matplotlib inline"
      ], 
      "outputs": [], 
      "metadata": {
        "collapsed": false
      }
    }, 
    {
      "source": [
        "\n# Plot memory fingerprint\n\n\nThis example plots a fingerprint.  Briefly, a fingerprint\ncan be described as a summary of how a subject organizes information with\nrespect to the multiple features of the stimuli.  In addition to presentation\nand recall data, a features object is passed to the Egg class.  It is comprised\nof a dictionary for each presented stimulus that contains feature dimensions and\nvalues for each stimulus.\n\n\n"
      ], 
      "cell_type": "markdown", 
      "metadata": {}
    }, 
    {
      "execution_count": null, 
      "cell_type": "code", 
      "source": [
        "# Code source: Andrew Heusser\n# License: MIT\n\n#import\nimport quail\n\n#load data\negg = quail.load_example_data()\n\n# analysis\nanalyzed_data = quail.analyze(egg, analysis='fingerprint', listgroup=['average']*16)\n\n# plot\nquail.plot(analyzed_data, title='Memory Fingerprint')"
      ], 
      "outputs": [], 
      "metadata": {
        "collapsed": false
      }
    }
  ], 
  "metadata": {
    "kernelspec": {
      "display_name": "Python 2", 
      "name": "python2", 
      "language": "python"
    }, 
    "language_info": {
      "mimetype": "text/x-python", 
      "nbconvert_exporter": "python", 
      "name": "python", 
      "file_extension": ".py", 
      "version": "2.7.11", 
      "pygments_lexer": "ipython2", 
      "codemirror_mode": {
        "version": 2, 
        "name": "ipython"
      }
    }
  }
}