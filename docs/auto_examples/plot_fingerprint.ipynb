{
  "nbformat_minor": 0, 
  "nbformat": 4, 
  "cells": [
    {
      "execution_count": null, 
      "cell_type": "code", 
      "source": [
        "%matplotlib inline"
      ], 
      "outputs": [], 
      "metadata": {
        "collapsed": false
      }
    }, 
    {
      "source": [
        "\n# Plot memory fingerprint\n\n\nThis example plots a fingerprint for a single subject.  Briefly, a fingerprint\ncan be described as a summary of how a subject organizes information with\nrespect to the multiple features of the stimuli.  In addition to presentation\nand recall data, a features object is passed to the Egg class.  It is comprised\nof a dictionary for each presented stimulus that contains feature dimensions and\nvalues for each stimulus.\n\n\n"
      ], 
      "cell_type": "markdown", 
      "metadata": {}
    }, 
    {
      "execution_count": null, 
      "cell_type": "code", 
      "source": [
        "# Code source: Andrew Heusser\n# License: MIT\n\n#import\nimport quail\n\n# presented words\npresented=[[['cat', 'bat', 'hat', 'goat'],['zoo', 'donkey', 'zebra', 'horse']]]\n\n# recalled words\nrecalled=[[['bat', 'cat', 'goat', 'hat'],['donkey', 'horse', 'zoo']]]\n\n# presentation features\nfeatures = [\n    [\n        [\n            {\n                'category' : 'animal',\n                'word_length' : 3,\n                'starting_letter' : 'c'\n            },\n            {\n                'category' : 'object',\n                'word_length' : 3,\n                'starting_letter' : 'b'\n            },\n            {\n                'category' : 'object',\n                'word_length' : 3,\n                'starting_letter' : 'h'\n            },\n            {\n                'category' : 'animal',\n                'word_length' : 4,\n                'starting_letter' : 'g'\n            },\n        ],\n        [\n            {\n                'category' : 'place',\n                'word_length' : 3,\n                'starting_letter' : 'z'\n            },\n            {\n                'category' : 'animal',\n                'word_length' : 6,\n                'starting_letter' : 'd'\n            },\n            {\n                'category' : 'animal',\n                'word_length' : 5,\n                'starting_letter' : 'z'\n            },\n            {\n                'category' : 'animal',\n                'word_length' : 5,\n                'starting_letter' : 'h'\n            },\n        ],\n    ]\n]\n\n# create egg object\negg = quail.Egg(pres=presented, rec=recalled, features=features)\n\n# analysis\nanalyzed_data = quail.analyze(egg, analysis='fingerprint')\n\n# plot\nquail.plot(analyzed_data)"
      ], 
      "outputs": [], 
      "metadata": {
        "collapsed": false
      }
    }
  ], 
  "metadata": {
    "kernelspec": {
      "display_name": "Python 2", 
      "name": "python2", 
      "language": "python"
    }, 
    "language_info": {
      "mimetype": "text/x-python", 
      "nbconvert_exporter": "python", 
      "name": "python", 
      "file_extension": ".py", 
      "version": "2.7.11", 
      "pygments_lexer": "ipython2", 
      "codemirror_mode": {
        "version": 2, 
        "name": "ipython"
      }
    }
  }
}