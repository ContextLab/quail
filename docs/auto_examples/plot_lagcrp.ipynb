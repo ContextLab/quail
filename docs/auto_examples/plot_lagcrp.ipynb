{
  "nbformat_minor": 0, 
  "nbformat": 4, 
  "cells": [
    {
      "execution_count": null, 
      "cell_type": "code", 
      "source": [
        "%matplotlib inline"
      ], 
      "outputs": [], 
      "metadata": {
        "collapsed": false
      }
    }, 
    {
      "source": [
        "\n# Plot Lag-CRP for a single subject\n\n\nThis example plots a Lag-CRP as described in Kahana et al (1996).\nGiven the recall of a stimulus in position n, this plot shows the probability of\nrecalling stimuli in neighboring stimulus positions (n+/-5).\n\n\n"
      ], 
      "cell_type": "markdown", 
      "metadata": {}
    }, 
    {
      "execution_count": null, 
      "cell_type": "code", 
      "source": [
        "# Code source: Andrew Heusser\n# License: MIT\n\n#import\nimport quail\n\n#load data\negg = quail.load_example_data()\n\n#analysis\nanalyzed_data = quail.analyze(egg, analysis='lagcrp', listgroup=['average']*16)\n\n#plot\nquail.plot(analyzed_data, title='Lag-CRP')"
      ], 
      "outputs": [], 
      "metadata": {
        "collapsed": false
      }
    }
  ], 
  "metadata": {
    "kernelspec": {
      "display_name": "Python 2", 
      "name": "python2", 
      "language": "python"
    }, 
    "language_info": {
      "mimetype": "text/x-python", 
      "nbconvert_exporter": "python", 
      "name": "python", 
      "file_extension": ".py", 
      "version": "2.7.11", 
      "pygments_lexer": "ipython2", 
      "codemirror_mode": {
        "version": 2, 
        "name": "ipython"
      }
    }
  }
}