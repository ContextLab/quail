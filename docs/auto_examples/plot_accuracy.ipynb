{
  "nbformat_minor": 0, 
  "nbformat": 4, 
  "cells": [
    {
      "execution_count": null, 
      "cell_type": "code", 
      "source": [
        "%matplotlib inline"
      ], 
      "outputs": [], 
      "metadata": {
        "collapsed": false
      }
    }, 
    {
      "source": [
        "\n# Plot free recall accuracy\n\n\nThis example plots free recall accuracy for a single subject.  Without any flags,\neach list will be plotted separately. To plot the average, set the plot_type\nkwarg to subject.  Finally, to change the style, you can pass the plot_style\nkwarg, setting it to bar, violin or swarm.\n\n\n"
      ], 
      "cell_type": "markdown", 
      "metadata": {}
    }, 
    {
      "execution_count": null, 
      "cell_type": "code", 
      "source": [
        "# Code source: Andrew Heusser\n# License: MIT\n\n#import\nimport quail\n\n# presented words\npresented=[[['cat', 'bat', 'hat', 'goat'],['zoo', 'animal', 'zebra', 'horse']]]\n\n# recalled words\nrecalled=[[['bat', 'cat', 'goat', 'hat'],['animal', 'horse', 'zoo']]]\n\n# create the egg data object\negg = quail.Egg(pres=presented,rec=recalled)\n\n#analysis\nanalyzed_data = quail.analyze(egg, analysis='accuracy')\n\n#plot by list\nquail.plot(analyzed_data)\n\n#plot averaged over lists\nquail.plot(analyzed_data, plot_type='subject')"
      ], 
      "outputs": [], 
      "metadata": {
        "collapsed": false
      }
    }
  ], 
  "metadata": {
    "kernelspec": {
      "display_name": "Python 2", 
      "name": "python2", 
      "language": "python"
    }, 
    "language_info": {
      "mimetype": "text/x-python", 
      "nbconvert_exporter": "python", 
      "name": "python", 
      "file_extension": ".py", 
      "version": "2.7.11", 
      "pygments_lexer": "ipython2", 
      "codemirror_mode": {
        "version": 2, 
        "name": "ipython"
      }
    }
  }
}