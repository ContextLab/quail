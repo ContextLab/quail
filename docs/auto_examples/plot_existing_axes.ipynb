{
  "cells": [
    {
      "cell_type": "code",
      "execution_count": null,
      "metadata": {
        "collapsed": false
      },
      "outputs": [],
      "source": [
        "%matplotlib inline"
      ]
    },
    {
      "cell_type": "markdown",
      "metadata": {},
      "source": [
        "\n# Plot free recall accuracy in an existing ax object\n\n\nThis example plots free recall accuracy in an existing Matplotlib Axes object.\n\n\n"
      ]
    },
    {
      "cell_type": "code",
      "execution_count": null,
      "metadata": {
        "collapsed": false
      },
      "outputs": [],
      "source": [
        "# Code source: Andrew Heusser\n# License: MIT\n\n#import\nimport quail\nimport matplotlib.pyplot as plt\n\n#load data\negg = quail.load('example')\n\n#analysis\nfegg = egg.analyze('accuracy', listgroup=['condition1']*4+['condition2']*4)\n\n#plot by list\nfig = plt.figure()\nax = fig.add_subplot(2,1,1)\nfegg.plot(plot_style='violin', title='Average Recall Accuracy', ax=ax)"
      ]
    }
  ],
  "metadata": {
    "kernelspec": {
      "display_name": "Python 3",
      "language": "python",
      "name": "python3"
    },
    "language_info": {
      "codemirror_mode": {
        "name": "ipython",
        "version": 3
      },
      "file_extension": ".py",
      "mimetype": "text/x-python",
      "name": "python",
      "nbconvert_exporter": "python",
      "pygments_lexer": "ipython3",
      "version": "3.6.5"
    }
  },
  "nbformat": 4,
  "nbformat_minor": 0
}