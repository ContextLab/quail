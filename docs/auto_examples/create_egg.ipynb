{
  "cells": [
    {
      "cell_type": "code",
      "execution_count": null,
      "metadata": {
        "collapsed": false
      },
      "outputs": [],
      "source": [
        "%matplotlib inline"
      ]
    },
    {
      "cell_type": "markdown",
      "metadata": {},
      "source": [
        "\n# Create an egg\n\n\nAn egg is made up of two primary pieces of data: `pres`, which are the\nwords/stimuli that were presented to a subject and `rec`, which are the\nwords/stimuli that were recalled by the subject.\n\n\n"
      ]
    },
    {
      "cell_type": "code",
      "execution_count": null,
      "metadata": {
        "collapsed": false
      },
      "outputs": [],
      "source": [
        "# Code source: Andrew Heusser\n# License: MIT\n\nimport quail\n\n\n# generate some fake data\nnext_presented = ['CAT', 'DOG', 'SHOE', 'HORSE']\nnext_recalled = ['HORSE', 'DOG', 'CAT']\n\nnext_features = [{\n                    'category' : 'animal',\n                    'size' : 'bigger',\n                    'starting letter' : 'C',\n                    'length' : 3\n                 },\n                 {\n                    'category' : 'animal',\n                    'size' : 'bigger',\n                    'starting letter' : 'D',\n                    'length' : 3\n                 },\n                 {\n                    'category' : 'object',\n                    'size' : 'smaller',\n                    'starting letter' : 'S',\n                    'length' : 4\n                 },\n                 {\n                    'category' : 'animal',\n                    'size' : 'bigger',\n                    'starting letter' : 'H',\n                    'length' : 5\n                 }\n]\ndist_funcs = {\n                'category' : 'lambda a, b: int(a!=b)',\n                'size' : 'lambda a, b: int(a!=b)',\n                'starting letter' : 'lambda a, b: int(a!=b)',\n                'length' : 'lambda a, b: np.linalg.norm(np.subtract(a,b))'\n}\negg = quail.Egg(pres=[next_presented], rec=[next_recalled], features=[next_features], dist_funcs=dist_funcs)\n\negg.analyze('lagcrp').plot()"
      ]
    }
  ],
  "metadata": {
    "kernelspec": {
      "display_name": "Python 3",
      "language": "python",
      "name": "python3"
    },
    "language_info": {
      "codemirror_mode": {
        "name": "ipython",
        "version": 3
      },
      "file_extension": ".py",
      "mimetype": "text/x-python",
      "name": "python",
      "nbconvert_exporter": "python",
      "pygments_lexer": "ipython3",
      "version": "3.6.5"
    }
  },
  "nbformat": 4,
  "nbformat_minor": 0
}