{
  "nbformat_minor": 0, 
  "nbformat": 4, 
  "cells": [
    {
      "execution_count": null, 
      "cell_type": "code", 
      "source": [
        "%matplotlib inline"
      ], 
      "outputs": [], 
      "metadata": {
        "collapsed": false
      }
    }, 
    {
      "source": [
        "\n# Plot free recall accuracy for a group of subjects\n\n\nIn this example, we plot the average recall accuracy for two subject's data. Using\nthe listgroup kwarg, we can average over the lists within each subject, and then\nplot the result.\n\n\n"
      ], 
      "cell_type": "markdown", 
      "metadata": {}
    }, 
    {
      "execution_count": null, 
      "cell_type": "code", 
      "source": [
        "# Code source: Andrew Heusser\n# License: MIT\n\n#import\nimport quail\n\n\n# presented words\nsub1_presented=[['cat', 'bat', 'hat', 'goat'],['zoo', 'animal', 'zebra', 'horse']]\nsub2_presented=[['cat', 'bat', 'hat', 'goat'],['zoo', 'animal', 'zebra', 'horse']]\n\n# recalled words\nsub1_recalled=[['bat', 'cat', 'goat', 'hat'],['animal', 'horse', 'zoo']]\nsub2_recalled=[['cat', 'goat', 'bat', 'hat'],['horse', 'zebra', 'zoo', 'animal']]\n\n# combine subject data\npresented = [sub1_presented, sub2_presented]\nrecalled = [sub1_recalled, sub2_recalled]\n\n# create Egg\negg = quail.Egg(pres=presented,rec=recalled)\n\n#analysis\nanalyzed_data = quail.analyze(egg, analysis='accuracy', listgroup=['average']*2)\n\n#plot\nquail.plot(analyzed_data, title='Free Recall Accuracy', listname='')"
      ], 
      "outputs": [], 
      "metadata": {
        "collapsed": false
      }
    }
  ], 
  "metadata": {
    "kernelspec": {
      "display_name": "Python 2", 
      "name": "python2", 
      "language": "python"
    }, 
    "language_info": {
      "mimetype": "text/x-python", 
      "nbconvert_exporter": "python", 
      "name": "python", 
      "file_extension": ".py", 
      "version": "2.7.11", 
      "pygments_lexer": "ipython2", 
      "codemirror_mode": {
        "version": 2, 
        "name": "ipython"
      }
    }
  }
}