{
  "cells": [
    {
      "cell_type": "code",
      "execution_count": null,
      "metadata": {
        "collapsed": false
      },
      "outputs": [],
      "source": [
        "%matplotlib inline"
      ]
    },
    {
      "cell_type": "markdown",
      "metadata": {},
      "source": [
        "\n# Crack Egg\n\n\nThis an example of how to crack an egg (take a slice of subjects/lists from it)\n\n\n"
      ]
    },
    {
      "cell_type": "code",
      "execution_count": null,
      "metadata": {
        "collapsed": false
      },
      "outputs": [],
      "source": [
        "# Code source: Andrew Heusser\n# License: MIT\n\n#import\nimport quail\n\n#load data\negg = quail.load('example')\n\n#crack egg\ncracked_egg = quail.crack_egg(egg, subjects=[0], lists=[0])\n\ncracked_egg.info()\n\npres = cracked_egg.get_pres_items().to_numpy()[0]\nrec = cracked_egg.get_rec_items().to_numpy()[0]\n\ndef distmat(egg, feature, distdict):\n    f = [xi[feature] for xi in egg.get_pres_features()]\n    return cdist(f, f, distdict[feature])\n\n\nfor idx in range(len(rec)-1):\n    ind1 = np.where(pres==rec[idx])[0][0]\n    ind2 = np.where(pres==rec[idx+1])[0][0]\n    dists = dist[ind1, :]\n    cdist = dist[ind1, ind2]\n    rank = np.mean(np.where(np.sort(dists)[::-1] == cdist))"
      ]
    }
  ],
  "metadata": {
    "kernelspec": {
      "display_name": "Python 3",
      "language": "python",
      "name": "python3"
    },
    "language_info": {
      "codemirror_mode": {
        "name": "ipython",
        "version": 3
      },
      "file_extension": ".py",
      "mimetype": "text/x-python",
      "name": "python",
      "nbconvert_exporter": "python",
      "pygments_lexer": "ipython3",
      "version": "3.6.5"
    }
  },
  "nbformat": 4,
  "nbformat_minor": 0
}