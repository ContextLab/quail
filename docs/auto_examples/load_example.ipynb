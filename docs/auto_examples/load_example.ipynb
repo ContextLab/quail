{
  "nbformat_minor": 0, 
  "nbformat": 4, 
  "cells": [
    {
      "execution_count": null, 
      "cell_type": "code", 
      "source": [
        "%matplotlib inline"
      ], 
      "outputs": [], 
      "metadata": {
        "collapsed": false
      }
    }, 
    {
      "source": [
        "\n# Load in some data\n\n\nThe sample data is a list of 2D arrays, where each array is fMRI brain activity\nfrom one subject.  The rows are timepoints and the columns are neural\n'features'.  First, the matrices are hyperaligned using hyp.tools.align.\n\n"
      ], 
      "cell_type": "markdown", 
      "metadata": {}
    }, 
    {
      "execution_count": null, 
      "cell_type": "code", 
      "source": [
        "# Code source: Andrew Heusser\n# License: MIT\n\nimport quail\n\ndbpath = '/Users/andyheusser/Documents/github/FRFR-analyses/data/encoding/participants-test-room1.db'\nrecpath = '/Users/andyheusser/Documents/github/FRFR-analyses/data/recall/room1/'\nremove_subs = ['debugCWO54U:debugQ59MF8', 'debugE1CAO3:debugONZ2R5', 'debugXG82XV:debug7XPXQA']\nwordpool = '/Users/andyheusser/Documents/github/FRFR-analyses/stimuli/cut_wordpool.csv'\n\n# create an egg with all data\negg_all = quail.load(dbpath=dbpath, recpath=recpath, remove_subs=remove_subs,\n                  wordpool=wordpool)\n\n# create a list of eggs, where each egg is a different experiment\ngroupby = {'exp_version': [['0.0','1.0','1.1'], '2.1', '3.2', '4.1', '5.1']}\neggs = quail.load(dbpath=dbpath, recpath=recpath, remove_subs=remove_subs,\n                  wordpool=wordpool, groupby=groupby)"
      ], 
      "outputs": [], 
      "metadata": {
        "collapsed": false
      }
    }
  ], 
  "metadata": {
    "kernelspec": {
      "display_name": "Python 2", 
      "name": "python2", 
      "language": "python"
    }, 
    "language_info": {
      "mimetype": "text/x-python", 
      "nbconvert_exporter": "python", 
      "name": "python", 
      "file_extension": ".py", 
      "version": "2.7.11", 
      "pygments_lexer": "ipython2", 
      "codemirror_mode": {
        "version": 2, 
        "name": "ipython"
      }
    }
  }
}