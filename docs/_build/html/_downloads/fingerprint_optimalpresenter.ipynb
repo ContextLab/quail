{
  "cells": [
    {
      "cell_type": "code",
      "execution_count": null,
      "metadata": {
        "collapsed": false
      },
      "outputs": [],
      "source": [
        "%matplotlib inline"
      ]
    },
    {
      "cell_type": "markdown",
      "metadata": {},
      "source": [
        "\n# Optimal presenter\n\n\nAn example of how to reorder stimuli with the optimal presenter class\n\n\n"
      ]
    },
    {
      "cell_type": "code",
      "execution_count": null,
      "metadata": {
        "collapsed": false
      },
      "outputs": [],
      "source": [
        "# Code source: Andrew Heusser\n# License: MIT\n\nimport numpy as np\nimport quail\nfrom quail import Fingerprint, OptimalPresenter\n\n# generate some fake data\nnext_presented = ['CAT', 'DOG', 'SHOE', 'BAT']\nnext_recalled = ['DOG', 'CAT', 'BAT', 'SHOE']\n\nnext_features = [{\n                    'category' : 'animal',\n                    'size' : 'bigger',\n                    'starting letter' : 'C',\n                    'length' : 3\n                 },\n                 {\n                    'category' : 'animal',\n                    'size' : 'bigger',\n                    'starting letter' : 'D',\n                    'length' : 3\n                 },\n                 {\n                    'category' : 'object',\n                    'size' : 'smaller',\n                    'starting letter' : 'S',\n                    'length' : 4\n                 },\n                 {\n                    'category' : 'animal',\n                    'size' : 'bigger',\n                    'starting letter' : 'B',\n                    'length' : 3\n                 }]\n\negg = quail.Egg(pres=[next_presented], rec=[next_recalled], features=[next_features])\n\n# initialize fingerprint\nfingerprint = Fingerprint(init=egg)\n\n# initialize presenter\nparams = {\n    'fingerprint' : fingerprint}\npresenter = OptimalPresenter(params=params, strategy='stabilize')\n\n# update the fingerprint\nfingerprint.update(egg)\n\n# reorder next list\nreordered_egg = presenter.order(egg, method='permute', nperms=100)"
      ]
    }
  ],
  "metadata": {
    "kernelspec": {
      "display_name": "Python 3",
      "language": "python",
      "name": "python3"
    },
    "language_info": {
      "codemirror_mode": {
        "name": "ipython",
        "version": 3
      },
      "file_extension": ".py",
      "mimetype": "text/x-python",
      "name": "python",
      "nbconvert_exporter": "python",
      "pygments_lexer": "ipython3",
      "version": "3.6.5"
    }
  },
  "nbformat": 4,
  "nbformat_minor": 0
}