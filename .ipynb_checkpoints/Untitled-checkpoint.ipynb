{
 "cells": [
  {
   "cell_type": "code",
   "execution_count": 3,
   "metadata": {
    "collapsed": true
   },
   "outputs": [],
   "source": [
    "import quail\n",
    "import pickle"
   ]
  },
  {
   "cell_type": "code",
   "execution_count": 10,
   "metadata": {
    "collapsed": false
   },
   "outputs": [],
   "source": [
    "with open('../Documents/Dartmouth/17S Work/Manning/FRFR-analyses/data/eggs/egg_7.p.egg', 'rb') as handle:\n",
    "    egg1 = pickle.load(handle)"
   ]
  },
  {
   "cell_type": "code",
   "execution_count": 11,
   "metadata": {
    "collapsed": false
   },
   "outputs": [
    {
     "data": {
      "text/plain": [
       "{'ids': [u'debugMZNC0G:debugHH9F77',\n",
       "  u'debugJKZ2FK:debug69AISL',\n",
       "  u'debugXDG5RF:debugHHZWWB',\n",
       "  u'debugYP8A2G:debug2FTXIJ',\n",
       "  u'debugL2YZ74:debugXLYC15',\n",
       "  u'debugGRV2XM:debugCBZLQI',\n",
       "  u'debugU2BCQM:debugZV1XCV',\n",
       "  u'debugEZ0I68:debug0BYRL0',\n",
       "  u'debugB2KA2H:debugXQ3KDZ',\n",
       "  u'debugBAYG6H:debugO6ZJRN',\n",
       "  u'debugVEI69J:debug4S3C4D',\n",
       "  u'debugQ9SHVQ:debug8PBYVB',\n",
       "  u'debugOZAQYJ:debug6QIMBF',\n",
       "  u'debug73JNQK:debugN2XGP7',\n",
       "  u'debug4X4DE6:debugONBJTZ',\n",
       "  u'debugNF909Z:debugRITT3W',\n",
       "  u'debug63UEQR:debugAALQ9G',\n",
       "  u'debugEY2LWF:debug1PMZR2',\n",
       "  u'debugTPKLST:debug503VMS',\n",
       "  u'debugRRBNAW:debugM9FO30',\n",
       "  u'debugKU7RF0:debugRRRR00',\n",
       "  u'debug9SX3WY:debug04DLKW',\n",
       "  u'debug9ZTC3N:debugPE34MP',\n",
       "  u'debugZ39CK8:debugGKMQ4X',\n",
       "  u'debug7N3YDC:debugZU2H5M',\n",
       "  u'debugF4JQ78:debugI90DQT',\n",
       "  u'debug8NIU5A:debugJTGEJP',\n",
       "  u'debugGPOMKR:debugO339U2',\n",
       "  u'debugZANF1E:debugNSAB89',\n",
       "  u'debugQVC5IH:debugWA2XJU']}"
      ]
     },
     "execution_count": 11,
     "metadata": {},
     "output_type": "execute_result"
    }
   ],
   "source": [
    "egg1.meta"
   ]
  },
  {
   "cell_type": "code",
   "execution_count": 12,
   "metadata": {
    "collapsed": true
   },
   "outputs": [],
   "source": [
    "egg2 = quail.load_example_data()"
   ]
  },
  {
   "cell_type": "code",
   "execution_count": 17,
   "metadata": {
    "collapsed": true
   },
   "outputs": [],
   "source": [
    "meta_dict = {}"
   ]
  },
  {
   "cell_type": "code",
   "execution_count": 18,
   "metadata": {
    "collapsed": true
   },
   "outputs": [],
   "source": [
    "meta_dict['ids']=['debug1','debug2','debug3','debug4','debug5','debug6','debug7','debug8','debug9','debug10','debug11']"
   ]
  },
  {
   "cell_type": "code",
   "execution_count": 20,
   "metadata": {
    "collapsed": false
   },
   "outputs": [],
   "source": [
    "meta_dict['fib']=[1,1,2,3,5,8,13,21,34,55]"
   ]
  },
  {
   "cell_type": "code",
   "execution_count": 21,
   "metadata": {
    "collapsed": false
   },
   "outputs": [],
   "source": [
    "egg2.meta = meta_dict"
   ]
  },
  {
   "cell_type": "code",
   "execution_count": 24,
   "metadata": {
    "collapsed": false
   },
   "outputs": [],
   "source": [
    "stacked_sep = quail.stack_eggs([egg1,egg2], meta='separate')"
   ]
  },
  {
   "cell_type": "code",
   "execution_count": 26,
   "metadata": {
    "collapsed": false
   },
   "outputs": [
    {
     "data": {
      "text/plain": [
       "[{'ids': [u'debugMZNC0G:debugHH9F77',\n",
       "   u'debugJKZ2FK:debug69AISL',\n",
       "   u'debugXDG5RF:debugHHZWWB',\n",
       "   u'debugYP8A2G:debug2FTXIJ',\n",
       "   u'debugL2YZ74:debugXLYC15',\n",
       "   u'debugGRV2XM:debugCBZLQI',\n",
       "   u'debugU2BCQM:debugZV1XCV',\n",
       "   u'debugEZ0I68:debug0BYRL0',\n",
       "   u'debugB2KA2H:debugXQ3KDZ',\n",
       "   u'debugBAYG6H:debugO6ZJRN',\n",
       "   u'debugVEI69J:debug4S3C4D',\n",
       "   u'debugQ9SHVQ:debug8PBYVB',\n",
       "   u'debugOZAQYJ:debug6QIMBF',\n",
       "   u'debug73JNQK:debugN2XGP7',\n",
       "   u'debug4X4DE6:debugONBJTZ',\n",
       "   u'debugNF909Z:debugRITT3W',\n",
       "   u'debug63UEQR:debugAALQ9G',\n",
       "   u'debugEY2LWF:debug1PMZR2',\n",
       "   u'debugTPKLST:debug503VMS',\n",
       "   u'debugRRBNAW:debugM9FO30',\n",
       "   u'debugKU7RF0:debugRRRR00',\n",
       "   u'debug9SX3WY:debug04DLKW',\n",
       "   u'debug9ZTC3N:debugPE34MP',\n",
       "   u'debugZ39CK8:debugGKMQ4X',\n",
       "   u'debug7N3YDC:debugZU2H5M',\n",
       "   u'debugF4JQ78:debugI90DQT',\n",
       "   u'debug8NIU5A:debugJTGEJP',\n",
       "   u'debugGPOMKR:debugO339U2',\n",
       "   u'debugZANF1E:debugNSAB89',\n",
       "   u'debugQVC5IH:debugWA2XJU']},\n",
       " {'fib': [1, 1, 2, 3, 5, 8, 13, 21, 34, 55],\n",
       "  'ids': ['debug1',\n",
       "   'debug2',\n",
       "   'debug3',\n",
       "   'debug4',\n",
       "   'debug5',\n",
       "   'debug6',\n",
       "   'debug7',\n",
       "   'debug8',\n",
       "   'debug9',\n",
       "   'debug10',\n",
       "   'debug11']}]"
      ]
     },
     "execution_count": 26,
     "metadata": {},
     "output_type": "execute_result"
    }
   ],
   "source": [
    "stacked_sep.meta"
   ]
  },
  {
   "cell_type": "code",
   "execution_count": 27,
   "metadata": {
    "collapsed": true
   },
   "outputs": [],
   "source": [
    "stacked_concat = quail.stack_eggs([egg1,egg2], meta='concatenate')"
   ]
  },
  {
   "cell_type": "code",
   "execution_count": null,
   "metadata": {
    "collapsed": true
   },
   "outputs": [],
   "source": []
  }
 ],
 "metadata": {
  "anaconda-cloud": {},
  "kernelspec": {
   "display_name": "Python [default]",
   "language": "python",
   "name": "python2"
  },
  "language_info": {
   "codemirror_mode": {
    "name": "ipython",
    "version": 2
   },
   "file_extension": ".py",
   "mimetype": "text/x-python",
   "name": "python",
   "nbconvert_exporter": "python",
   "pygments_lexer": "ipython2",
   "version": "2.7.12"
  }
 },
 "nbformat": 4,
 "nbformat_minor": 1
}
